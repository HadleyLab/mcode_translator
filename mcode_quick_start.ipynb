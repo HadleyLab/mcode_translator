{
 "cells": [
  {
   "cell_type": "markdown",
   "metadata": {},
   "source": [
    "# 🚀 **mCODE Translation: Quick Start Tutorial**\n",
    "\n",
    "Welcome to the mCODE (minimal Common Oncology Data Elements) Translation System! This interactive tutorial will get you up and running with clinical data processing in just 15 minutes.\n",
    "\n",
    "## 🎯 **What You'll Learn**\n",
    "\n",
    "By the end of this tutorial, you'll be able to:\n",
    "\n",
    "- ✅ Fetch clinical trial data from public APIs\n",
    "- ✅ Process patient data into standardized mCODE format\n",
    "- ✅ Generate human-readable summaries\n",
    "- ✅ Understand the complete clinical data workflow\n",
    "\n",
    "## 📋 **Prerequisites**\n",
    "\n",
    "- Python 3.11+ installed\n",
    "- Basic familiarity with command line\n",
    "- ClinicalTrials.gov API access (no key required)\n",
    "\n",
    "---"
   ]
  },
  {
   "cell_type": "markdown",
   "metadata": {},
   "source": [
    "## 🏁 **Step 1: Setup & Verification**"
   ]
  },
  {
   "cell_type": "code",
   "execution_count": null,
   "metadata": {},
   "outputs": [],
   "source": [
    "# Check that we're in the right directory and the system is ready\n",
    "!pwd && python --version"
   ]
  },
  {
   "cell_type": "code",
   "execution_count": null,
   "metadata": {},
   "outputs": [],
   "source": [
    "# Verify the main CLI script exists\n",
    "!ls -la mcode_translate.py"
   ]
  },
  {
   "cell_type": "code",
   "execution_count": null,
   "metadata": {},
   "outputs": [],
   "source": [
    "# Show available commands\n",
    "!python mcode_translate.py --help | head -15"
   ]
  },
  {
   "cell_type": "markdown",
   "metadata": {},
   "source": [
    "## 📊 **Step 2: Fetch Clinical Trial Data**\n",
    "\n",
    "Clinical trials contain detailed information about cancer treatments, eligibility criteria, and study designs. We'll start by fetching some breast cancer trials."
   ]
  },
  {
   "cell_type": "code",
   "execution_count": null,
   "metadata": {},
   "outputs": [],
   "source": [
    "# Configuration for our tutorial\n",
    "NUM_TRIALS=3  # Start small for quick processing\n",
    "CONDITION=\"breast cancer\"  # Focus on breast cancer trials\n",
    "\n",
    "!echo \"🎯 Fetching $NUM_TRIALS $CONDITION trials...\""
   ]
  },
  {
   "cell_type": "code",
   "execution_count": null,
   "metadata": {},
   "outputs": [],
   "source": [
    "# Fetch clinical trials\n",
    "!python mcode_translate.py fetch-trials --condition \"$CONDITION\" --limit $NUM_TRIALS --out raw_trials.ndjson"
   ]
  },
  {
   "cell_type": "code",
   "execution_count": null,
   "metadata": {},
   "outputs": [],
   "source": [
    "# Verify the data was downloaded\n",
    "!echo \"📊 Downloaded $(wc -l < raw_trials.ndjson) trials\" && echo \"Sample trial:\" && head -1 raw_trials.ndjson | jq -r '.protocolSection.identificationModule | \"NCT ID: \\(.nctId)\", \"Title: \\(.briefTitle | .[0:60])...\"'"
   ]
  },
  {
   "cell_type": "markdown",
   "metadata": {},
   "source": [
    "## 👥 **Step 3: Fetch Patient Data**\n",
    "\n",
    "Patient data provides real-world context for treatment patterns. We'll use synthetic patient data that maintains clinical realism while protecting privacy."
   ]
  },
  {
   "cell_type": "code",
   "execution_count": null,
   "metadata": {},
   "outputs": [],
   "source": [
    "# Configuration for patient data\n",
    "NUM_PATIENTS=3  # Small sample for quick processing\n",
    "PATIENT_ARCHIVE=\"breast_cancer_10_years\"  # 10-year follow-up data\n",
    "\n",
    "!echo \"👥 Fetching $NUM_PATIENTS patients from $PATIENT_ARCHIVE archive...\""
   ]
  },
  {
   "cell_type": "code",
   "execution_count": null,
   "metadata": {},
   "outputs": [],
   "source": [
    "# Fetch synthetic patient data\n",
    "!python mcode_translate.py fetch-patients --archive $PATIENT_ARCHIVE --limit $NUM_PATIENTS --out raw_patients.ndjson"
   ]
  },
  {
   "cell_type": "code",
   "execution_count": null,
   "metadata": {},
   "outputs": [],
   "source": [
    "# Verify patient data was downloaded\n",
    "!echo \"👤 Downloaded $(wc -l < raw_patients.ndjson) patient records\" && echo \"Sample patient:\" && head -1 raw_patients.ndjson | jq -r '.entry[0].resource | \"ID: \\(.id)\", \"Name: \\(.name[0].given[0]) \\(.name[0].family)\"'"
   ]
  },
  {
   "cell_type": "markdown",
   "metadata": {},
   "source": [
    "## 🤖 **Step 4: AI Processing - Trials to mCODE**\n",
    "\n",
    "Now for the exciting part! We'll use advanced AI models to extract structured mCODE elements from the unstructured clinical trial text."
   ]
  },
  {
   "cell_type": "code",
   "execution_count": null,
   "metadata": {},
   "outputs": [],
   "source": [
    "# Configuration for AI processing\n",
    "MODEL=\"deepseek-coder\"  # Our recommended model for structured data\n",
    "PROMPT=\"direct_mcode_evidence_based_concise\"  # Optimized prompt template\n",
    "\n",
    "!echo \"🤖 Processing trials with $MODEL model...\"\n",
    "!echo \"📝 Using prompt: $PROMPT\""
   ]
  },
  {
   "cell_type": "code",
   "execution_count": null,
   "metadata": {},
   "outputs": [],
   "source": [
    "# Process trial data into mCODE format\n",
    "!python mcode_translate.py process-trials raw_trials.ndjson --out mcode_trials.ndjson --ingest --model $MODEL --prompt $PROMPT"
   ]
  },
  {
   "cell_type": "code",
   "execution_count": null,
   "metadata": {},
   "outputs": [],
   "source": [
    "# Examine the processed mCODE trial data\n",
    "!echo \"🔬 Processed $(wc -l < mcode_trials.ndjson) trials into mCODE format\" && echo \"Sample mCODE elements:\" && head -1 mcode_trials.ndjson | jq -r '.mcode_elements.mcode_mappings[0:3][] | \"\\(.element_type): \\(.code)\"'"
   ]
  },
  {
   "cell_type": "markdown",
   "metadata": {},
   "source": [
    "## 🏥 **Step 5: AI Processing - Patients to mCODE**\n",
    "\n",
    "Now we'll process the patient data, linking it with the trial information for comprehensive clinical context."
   ]
  },
  {
   "cell_type": "code",
   "execution_count": null,
   "metadata": {},
   "outputs": [],
   "source": [
    "# Process patient data into mCODE format\n",
    "!python mcode_translate.py process-patients --in raw_patients.ndjson --out mcode_patients.ndjson --trials mcode_trials.ndjson --ingest --model $MODEL --prompt $PROMPT"
   ]
  },
  {
   "cell_type": "code",
   "execution_count": null,
   "metadata": {},
   "outputs": [],
   "source": [
    "# Examine the processed mCODE patient data\n",
    "!echo \"👤 Processed $(wc -l < mcode_patients.ndjson) patients into mCODE format\" && echo \"Sample mCODE elements:\" && head -1 mcode_patients.ndjson | jq -r '.mcode_elements[0:3][] | \"\\(.element_type): \\(.code)\"'"
   ]
  },
  {
   "cell_type": "markdown",
   "metadata": {},
   "source": [
    "## 📝 **Step 6: Generate Summaries**\n",
    "\n",
    "Finally, let's create human-readable summaries of our processed data. This transforms the structured mCODE elements into natural language descriptions."
   ]
  },
  {
   "cell_type": "code",
   "execution_count": null,
   "metadata": {},
   "outputs": [],
   "source": [
    "# Generate trial summaries\n",
    "!python mcode_translate.py summarize-trials --in mcode_trials.ndjson --out trials_summary.md --ingest --workers 2"
   ]
  },
  {
   "cell_type": "code",
   "execution_count": null,
   "metadata": {},
   "outputs": [],
   "source": [
    "# Generate patient summaries\n",
    "!python mcode_translate.py summarize-patients --in mcode_patients.ndjson --out patients_summary.md --ingest --workers 2"
   ]
  },
  {
   "cell_type": "code",
   "execution_count": null,
   "metadata": {},
   "outputs": [],
   "source": [
    "# Display the generated summaries\n",
    "!echo \"📖 TRIALS SUMMARY:\" && echo \"================\" && head -20 trials_summary.md && echo -e \"\\n👥 PATIENTS SUMMARY:\" && echo \"==================\" && head -20 patients_summary.md"
   ]
  },
  {
   "cell_type": "markdown",
   "metadata": {},
   "source": [
    "## 🎉 **Tutorial Complete!**\n",
    "\n",
    "Congratulations! You've successfully completed the mCODE translation workflow.\n",
    "\n",
    "### ✅ **What You Did:**\n",
    "1. **Fetched** clinical trial data from public APIs\n",
    "2. **Downloaded** synthetic patient data with clinical realism\n",
    "3. **Processed** trial data into standardized mCODE elements using AI\n",
    "4. **Processed** patient data and linked it with relevant trials\n",
    "5. **Generated** human-readable summaries of all processed data\n",
    "\n",
    "### 📊 **Files Created:**\n",
    "- `raw_trials.ndjson` - Original clinical trial data\n",
    "- `raw_patients.ndjson` - Original patient data\n",
    "- `mcode_trials.ndjson` - Trials converted to mCODE format\n",
    "- `mcode_patients.ndjson` - Patients converted to mCODE format\n",
    "- `trials_summary.md` - Human-readable trial summaries\n",
    "- `patients_summary.md` - Human-readable patient summaries\n",
    "\n",
    "### 🚀 **Next Steps:**\n",
    "\n",
    "**For Advanced Features:** Check out `mcode_cli_deep_dive.ipynb` for:\n",
    "- Model optimization and inter-rater reliability analysis\n",
    "- Batch processing for large datasets\n",
    "- Advanced configuration and customization\n",
    "- Quality assurance and validation techniques\n",
    "\n",
    "**For Production Use:**\n",
    "- Scale up the number of trials/patients\n",
    "- Use different AI models and prompts\n",
    "- Integrate with your clinical workflows\n",
    "- Set up automated processing pipelines\n",
    "\n",
    "### 💡 **Key Takeaways:**\n",
    "- mCODE provides standardized clinical data elements\n",
    "- AI can reliably extract structured information from unstructured text\n",
    "- The system maintains clinical accuracy while enabling interoperability\n",
    "- Results are stored in CORE Memory for persistent research context\n",
    "\n",
    "**Happy mCODE translating! 🚀**"
   ]
  }
 ],
 "metadata": {
  "kernelspec": {
   "display_name": "Python 3",
   "language": "python",
   "name": "python3"
  },
  "language_info": {
   "codemirror_mode": {
    "name": "ipython",
    "version": 3
   },
   "file_extension": ".py",
   "mimetype": "text/x-python",
   "name": "python",
   "nbconvert_exporter": "python",
   "pygments_lexer": "ipython3",
   "version": "3.11.0"
  }
 },
 "nbformat": 4,
 "nbformat_minor": 4
}