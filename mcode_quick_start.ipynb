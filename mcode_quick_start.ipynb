{
 "cells": [
  {
   "cell_type": "markdown",
   "metadata": {},
   "source": [
    "# \ud83d\ude80 **mCODE Translation: Quick Start Tutorial**\n",
    "\n",
    "Welcome to the mCODE (minimal Common Oncology Data Elements) Translation System! This interactive tutorial will get you up and running with clinical data processing in just 15 minutes.\n",
    "\n",
    "## \ud83c\udfaf **What You'll Learn**\n",
    "\n",
    "By the end of this tutorial, you'll be able to:\n",
    "- \u2705 Fetch clinical trial data from public APIs\n",
    "- \u2705 Process patient data into standardized mCODE format\n",
    "- \u2705 Generate human-readable summaries\n",
    "- \u2705 Understand the complete clinical data workflow\n",
    "\n",
    "## \ud83d\udccb **Prerequisites**\n",
    "\n",
    "- Python 3.11+ installed\n",
    "- Basic familiarity with command line\n",
    "- ClinicalTrials.gov API access (no key required)\n",
    "\n",
    "---"
   ]
  },
  {
   "cell_type": "markdown",
   "metadata": {},
   "source": [
    "## \ud83c\udfc1 **Step 1: Setup & Verification**\n",
    "\n",
    "First, let's verify that our mCODE translation system is properly installed and all components are working."
   ]
  },
  {
   "cell_type": "code",
   "execution_count": null,
   "metadata": {},
   "outputs": [],
   "source": [
    "# Check that we're in the right directory and the system is ready\n",
    "import os\n",
    "print(f\"Current directory: {os.getcwd()}\")\n",
    "print(f\"Python version: {os.sys.version}\")\n",
    "\n",
    "# Verify the main CLI script exists\n",
    "import pathlib\n",
    "cli_path = pathlib.Path(\"mcode_translate.py\")\n",
    "print(f\"CLI script exists: {cli_path.exists()}\")\n",
    "\n",
    "# Show available commands\n",
    "print(\"\\n\ud83d\ude80 Available CLI commands:\")\n",
    "print(\"- fetch-trials: Download clinical trial data\")\n",
    "print(\"- fetch-patients: Download synthetic patient data\")\n",
    "print(\"- process-trials: Extract mCODE elements from trials\")\n",
    "print(\"- process-patients: Extract mCODE elements from patients\")\n",
    "print(\"- summarize-trials: Generate trial summaries\")\n",
    "print(\"- summarize-patients: Generate patient summaries\")\n",
    "print(\"- optimize-trials: Compare AI models and prompts\")\n",
    "print(\"- run-tests: Execute test suite\")"
   ]
  },
  {
   "cell_type": "markdown",
   "metadata": {},
   "source": [
    "## \ud83d\udcca **Step 2: Fetch Clinical Trial Data**\n",
    "\n",
    "Clinical trials contain detailed information about cancer treatments, eligibility criteria, and study designs. We'll start by fetching some breast cancer trials.\n",
    "\n",
    "### What happens in this step:\n",
    "- Searches ClinicalTrials.gov for breast cancer trials\n",
    "- Downloads trial metadata and protocols\n",
    "- Saves data in NDJSON format for efficient processing"
   ]
  },
  {
   "cell_type": "code",
   "execution_count": null,
   "metadata": {},
   "outputs": [],
   "source": [
    "# Configuration for our tutorial\n",
    "NUM_TRIALS = 3  # Start small for quick processing\n",
    "CONDITION = \"breast cancer\"  # Focus on breast cancer trials\n",
    "\n",
    "print(f\"\ud83c\udfaf Fetching {NUM_TRIALS} {CONDITION} trials...\")\n",
    "print(\"This may take 10-30 seconds depending on API response time.\")"
   ]
  },
  {
   "cell_type": "code",
   "execution_count": null,
   "metadata": {},
   "outputs": [],
   "source": [
    "# Fetch clinical trials\n",
    "# This command searches ClinicalTrials.gov and downloads trial data\n",
    "!python mcode_translate.py fetch-trials --condition \"{CONDITION}\" --limit {NUM_TRIALS} --out raw_trials.ndjson"
   ]
  },
  {
   "cell_type": "code",
   "execution_count": null,
   "metadata": {},
   "outputs": [],
   "source": [
    "# Verify the data was downloaded\n",
    "import json\n",
    "\n",
    "print(\"\ud83d\udcca Checking downloaded trial data...\")\n",
    "try:\n",
    "    with open('raw_trials.ndjson', 'r') as f:\n",
    "        lines = f.readlines()\n",
    "        print(f\"\u2705 Downloaded {len(lines)} trials\")\n",
    "        \n",
    "        # Show a sample trial\n",
    "        if lines:\n",
    "            sample_trial = json.loads(lines[0])\n",
    "            trial_id = sample_trial.get('protocolSection', {}).get('identificationModule', {}).get('nctId', 'Unknown')\n",
    "            title = sample_trial.get('protocolSection', {}).get('identificationModule', {}).get('briefTitle', 'No title')\n",
    "            print(f\"\\n\ud83d\udccb Sample Trial:\")\n",
    "            print(f\"   NCT ID: {trial_id}\")\n",
    "            print(f\"   Title: {title[:80]}...\")\n",
    "            \n",
    "except FileNotFoundError:\n",
    "    print(\"\u274c Trial data file not found. Check the fetch command above.\")\n",
    "except Exception as e:\n",
    "    print(f\"\u274c Error reading trial data: {e}\")"
   ]
  },
  {
   "cell_type": "markdown",
   "metadata": {},
   "source": [
    "## \ud83d\udc65 **Step 3: Fetch Patient Data**\n",
    "\n",
    "Patient data provides real-world context for treatment patterns. We'll use synthetic patient data that maintains clinical realism while protecting privacy.\n",
    "\n",
    "### What happens in this step:\n",
    "- Downloads synthetic patient records from MITRE's oncology data archives\n",
    "- Filters for breast cancer patients with 10-year follow-up\n",
    "- Provides realistic clinical scenarios for testing"
   ]
  },
  {
   "cell_type": "code",
   "execution_count": null,
   "metadata": {},
   "outputs": [],
   "source": [
    "# Configuration for patient data\n",
    "NUM_PATIENTS = 3  # Small sample for quick processing\n",
    "PATIENT_ARCHIVE = \"breast_cancer_10_years\"  # 10-year follow-up data\n",
    "\n",
    "print(f\"\ud83d\udc65 Fetching {NUM_PATIENTS} patients from {PATIENT_ARCHIVE} archive...\")\n",
    "print(\"This downloads synthetic but clinically realistic patient data.\")"
   ]
  },
  {
   "cell_type": "code",
   "execution_count": null,
   "metadata": {},
   "outputs": [],
   "source": [
    "# Fetch synthetic patient data\n",
    "# This downloads patient records from MITRE's oncology archives\n",
    "!python mcode_translate.py fetch-patients --archive {PATIENT_ARCHIVE} --limit {NUM_PATIENTS} --out raw_patients.ndjson"
   ]
  },
  {
   "cell_type": "code",
   "execution_count": null,
   "metadata": {},
   "outputs": [],
   "source": [
    "# Verify patient data was downloaded\n",
    "print(\"\ud83d\udc64 Checking downloaded patient data...\")\n",
    "try:\n",
    "    with open('raw_patients.ndjson', 'r') as f:\n",
    "        lines = f.readlines()\n",
    "        print(f\"\u2705 Downloaded {len(lines)} patient records\")\n",
    "        \n",
    "        # Show sample patient info\n",
    "        if lines:\n",
    "            sample_patient = json.loads(lines[0])\n",
    "            # Extract patient info from FHIR Bundle\n",
    "            patient_resource = None",
    "            conditions = []",
    "            ",
    "            for entry in sample_patient.get('entry', []):",
    "                resource = entry.get('resource', {})",
    "                resource_type = resource.get('resourceType')",
    "                ",
    "                if resource_type == 'Patient':",
    "                    patient_resource = resource",
    "                elif resource_type == 'Condition':",
    "                    condition_text = resource.get('code', {}).get('text', 'Unknown condition')",
    "                    conditions.append(condition_text)",
    "            ",
    "            # Get patient ID and name",
    "            patient_id = patient_resource.get('id', 'Unknown') if patient_resource else 'Unknown'",
    "            patient_name = 'Unknown'",
    "            if patient_resource and 'name' in patient_resource:",
    "                name_data = patient_resource['name'][0] if patient_resource['name'] else {}",
    "                given = name_data.get('given', [])",
    "                family = name_data.get('family', '')",
    "                given_str = ' '.join(given) if given else ''",
    "                patient_name = f\"{given_str} {family}\".strip()",
    "            ",
    "            print(f\"\\n\ud83d\udc64 Sample Patient:\")",
    "            print(f\"   ID: {patient_id}\")",
    "            print(f\"   Name: {patient_name}\")",
    "            print(f\"   Conditions: {\", \".join(conditions[:3])}{'...' if len(conditions) > 3 else ''}\")",
    "            \n",
    "except FileNotFoundError:\n",
    "    print(\"\u274c Patient data file not found. Check the fetch command above.\")\n",
    "except Exception as e:\n",
    "    print(f\"\u274c Error reading patient data: {e}\")"
   ]
  },
  {
   "cell_type": "markdown",
   "metadata": {},
   "source": [
    "## \ud83e\udd16 **Step 4: AI Processing - Trials to mCODE**\n",
    "\n",
    "Now for the exciting part! We'll use advanced AI models to extract structured mCODE elements from the unstructured clinical trial text.\n",
    "\n",
    "### What happens in this step:\n",
    "- AI analyzes trial protocols and eligibility criteria\n",
    "- Extracts standardized mCODE elements (conditions, treatments, demographics)\n",
    "- Validates extracted information for clinical accuracy\n",
    "- Stores results in CORE Memory for future reference"
   ]
  },
  {
   "cell_type": "code",
   "execution_count": null,
   "metadata": {},
   "outputs": [],
   "source": [
    "# Configuration for AI processing\n",
    "MODEL = \"deepseek-coder\"  # Our recommended model for structured data\n",
    "PROMPT = \"direct_mcode_evidence_based_concise\"  # Optimized prompt template\n",
    "\n",
    "print(f\"\ud83e\udd16 Processing trials with {MODEL} model...\")\n",
    "print(f\"\ud83d\udcdd Using prompt: {PROMPT}\")\n",
    "print(\"This extracts mCODE elements from clinical trial text.\")\n",
    "print(\"Processing time: ~30-60 seconds per trial\")"
   ]
  },
  {
   "cell_type": "code",
   "execution_count": null,
   "metadata": {},
   "outputs": [],
   "source": [
    "# Process trial data into mCODE format\n",
    "# This is where the AI magic happens!\n",
    "!python mcode_translate.py process-trials raw_trials.ndjson --out mcode_trials.ndjson --ingest --model {MODEL} --prompt {PROMPT}"
   ]
  },
  {
   "cell_type": "code",
   "execution_count": null,
   "metadata": {},
   "outputs": [],
   "source": [
    "# Examine the processed mCODE trial data\n",
    "print(\"\ud83d\udd2c Analyzing processed trial data...\")\n",
    "try:\n",
    "    with open('mcode_trials.ndjson', 'r') as f:\n",
    "        lines = f.readlines()\n",
    "        print(f\"\u2705 Processed {len(lines)} trials into mCODE format\")\n",
    "        \n",
    "        if lines:\n",
    "            sample_mcode = json.loads(lines[0])\n",
    "            mcode_elements = sample_mcode.get('mcode_elements', {}).get('mcode_mappings', [])\n",
    "            print(f\"\\n\ud83d\udcca Sample Trial mCODE Elements:\")\n",
    "            for i, element in enumerate(mcode_elements[:5]):  # Show first 5 elements\n",
    "                element_type = element.get('element_type', 'Unknown')\n",
    "                code = element.get('code', 'No code')\n",
    "                print(f\"   {i+1}. {element_type}: {code}\")\n",
    "            if len(mcode_elements) > 5:\n",
    "                print(f\"   ... and {len(mcode_elements) - 5} more elements\")\n",
    "                \n",
    "except FileNotFoundError:\n",
    "    print(\"\u274c mCODE trial data not found. Check the processing command above.\")\n",
    "except Exception as e:\n",
    "    print(f\"\u274c Error reading mCODE trial data: {e}\")"
   ]
  },
  {
   "cell_type": "markdown",
   "metadata": {},
   "source": [
    "## \ud83c\udfe5 **Step 5: AI Processing - Patients to mCODE**\n",
    "\n",
    "Now we'll process the patient data, linking it with the trial information for comprehensive clinical context.\n",
    "\n",
    "### What happens in this step:\n",
    "- AI analyzes patient records and treatment histories\n",
    "- Extracts mCODE elements (diagnoses, treatments, outcomes)\n",
    "- Links patient data with relevant clinical trials\n",
    "- Creates comprehensive patient profiles"
   ]
  },
  {
   "cell_type": "code",
   "execution_count": null,
   "metadata": {},
   "outputs": [],
   "source": [
    "print(\"\ud83c\udfe5 Processing patient data into mCODE format...\")\n",
    "print(\"This links patient records with clinical trial eligibility.\")\n",
    "print(\"Processing time: ~20-40 seconds per patient\")"
   ]
  },
  {
   "cell_type": "code",
   "execution_count": null,
   "metadata": {},
   "outputs": [],
   "source": [
    "# Process patient data into mCODE format\n",
    "# Links patients with relevant clinical trials\n",
    "!python mcode_translate.py process-patients --in raw_patients.ndjson --out mcode_patients.ndjson --trials mcode_trials.ndjson --ingest --model {MODEL} --prompt {PROMPT}"
   ]
  },
  {
   "cell_type": "code",
   "execution_count": null,
   "metadata": {},
   "outputs": [],
   "source": [
    "# Examine the processed mCODE patient data\n",
    "print(\"\ud83d\udc64 Analyzing processed patient data...\")\n",
    "try:\n",
    "    with open('mcode_patients.ndjson', 'r') as f:\n",
    "        lines = f.readlines()\n",
    "        print(f\"\u2705 Processed {len(lines)} patients into mCODE format\")\n",
    "        \n",
    "        if lines:\n",
    "            sample_patient = json.loads(lines[0])\n",
    "            mcode_elements = sample_patient.get('mcode_elements', [])\n",
    "            print(f\"\\n\ud83d\udcca Sample Patient mCODE Elements:\")\n",
    "            for i, element in enumerate(mcode_elements[:5]):  # Show first 5 elements\n",
    "                element_type = element.get('element_type', 'Unknown')\n",
    "                code = element.get('code', 'No code')\n",
    "                print(f\"   {i+1}. {element_type}: {code}\")\n",
    "            if len(mcode_elements) > 5:\n",
    "                print(f\"   ... and {len(mcode_elements) - 5} more elements\")\n",
    "                \n",
    "except FileNotFoundError:\n",
    "    print(\"\u274c mCODE patient data not found. Check the processing command above.\")\n",
    "except Exception as e:\n",
    "    print(f\"\u274c Error reading mCODE patient data: {e}\")"
   ]
  },
  {
   "cell_type": "markdown",
   "metadata": {},
   "source": [
    "## \ud83d\udcdd **Step 6: Generate Summaries**\n",
    "\n",
    "Finally, let's create human-readable summaries of our processed data. This transforms the structured mCODE elements into natural language descriptions.\n",
    "\n",
    "### What happens in this step:\n",
    "- Converts mCODE elements into readable sentences\n",
    "- Groups related information by clinical priority\n",
    "- Creates comprehensive summaries for research and clinical use"
   ]
  },
  {
   "cell_type": "code",
   "execution_count": null,
   "metadata": {},
   "outputs": [],
   "source": [
    "print(\"\ud83d\udcdd Generating human-readable summaries...\")\n",
    "print(\"This converts mCODE elements into natural language descriptions.\")\n",
    "print(\"Processing time: ~10-20 seconds per summary\")"
   ]
  },
  {
   "cell_type": "code",
   "execution_count": null,
   "metadata": {},
   "outputs": [],
   "source": [
    "# Generate trial summaries\n",
    "!python mcode_translate.py summarize-trials --in mcode_trials.ndjson --out trials_summary.md --ingest --workers 2"
   ]
  },
  {
   "cell_type": "code",
   "execution_count": null,
   "metadata": {},
   "outputs": [],
   "source": [
    "# Generate patient summaries\n",
    "!python mcode_translate.py summarize-patients --in mcode_patients.ndjson --out patients_summary.md --ingest --workers 2"
   ]
  },
  {
   "cell_type": "code",
   "execution_count": null,
   "metadata": {},
   "outputs": [],
   "source": [
    "# Display the generated summaries\n",
    "print(\"\ud83d\udcd6 Displaying generated summaries...\")\n",
    "\n",
    "# Show trial summary\n",
    "print(\"\\n\" + \"=\"*60)\n",
    "print(\"\ud83d\udccb CLINICAL TRIALS SUMMARY\")\n",
    "print(\"=\"*60)\n",
    "try:\n",
    "    with open('trials_summary.md', 'r') as f:\n",
    "        content = f.read()\n",
    "        # Show first 1000 characters to avoid overwhelming output\n",
    "        print(content[:1000] + \"...\" if len(content) > 1000 else content)\n",
    "except FileNotFoundError:\n",
    "    print(\"\u274c Trial summary not found\")\n",
    "\n",
    "# Show patient summary\n",
    "print(\"\\n\" + \"=\"*60)\n",
    "print(\"\ud83d\udc65 PATIENTS SUMMARY\")\n",
    "print(\"=\"*60)\n",
    "try:\n",
    "    with open('patients_summary.md', 'r') as f:\n",
    "        content = f.read()\n",
    "        # Show first 1000 characters\n",
    "        print(content[:1000] + \"...\" if len(content) > 1000 else content)\n",
    "except FileNotFoundError:\n",
    "    print(\"\u274c Patient summary not found\")"
   ]
  },
  {
   "cell_type": "markdown",
   "metadata": {},
   "source": [
    "## \ud83c\udf89 **Tutorial Complete!**\n",
    "\n",
    "Congratulations! You've successfully completed the mCODE translation workflow. Here's what you accomplished:\n",
    "\n",
    "### \u2705 **What You Did:**\n",
    "1. **Fetched** clinical trial data from public APIs\n",
    "2. **Downloaded** synthetic patient data with clinical realism\n",
    "3. **Processed** trial data into standardized mCODE elements using AI\n",
    "4. **Processed** patient data and linked it with relevant trials\n",
    "5. **Generated** human-readable summaries of all processed data\n",
    "\n",
    "### \ud83d\udcca **Files Created:**\n",
    "- `raw_trials.ndjson` - Original clinical trial data\n",
    "- `raw_patients.ndjson` - Original patient data\n",
    "- `mcode_trials.ndjson` - Trials converted to mCODE format\n",
    "- `mcode_patients.ndjson` - Patients converted to mCODE format\n",
    "- `trials_summary.md` - Human-readable trial summaries\n",
    "- `patients_summary.md` - Human-readable patient summaries\n",
    "\n",
    "### \ud83d\ude80 **Next Steps:**\n",
    "\n",
    "**For Advanced Features:** Check out `mcode_cli_deep_dive.ipynb` for:\n",
    "- Model optimization and inter-rater reliability analysis\n",
    "- Batch processing for large datasets\n",
    "- Advanced configuration and customization\n",
    "- Quality assurance and validation techniques\n",
    "\n",
    "**For Production Use:**\n",
    "- Scale up the number of trials/patients\n",
    "- Use different AI models and prompts\n",
    "- Integrate with your clinical workflows\n",
    "- Set up automated processing pipelines\n",
    "\n",
    "### \ud83d\udca1 **Key Takeaways:**\n",
    "- mCODE provides standardized clinical data elements\n",
    "- AI can reliably extract structured information from unstructured text\n",
    "- The system maintains clinical accuracy while enabling interoperability\n",
    "- Results are stored in CORE Memory for persistent research context\n",
    "\n",
    "**Happy mCODE translating! \ud83d\ude80**"
   ]
  }
 ],
 "metadata": {
  "kernelspec": {
   "display_name": "Python 3",
   "language": "python",
   "name": "python3"
  },
  "language_info": {
   "codemirror_mode": {
    "name": "ipython",
    "version": 3
   },
   "file_extension": ".py",
   "mimetype": "text/x-python",
   "name": "python",
   "nbconvert_exporter": "python",
   "pygments_lexer": "ipython3",
   "version": "3.11.13"
  }
 },
 "nbformat": 4,
 "nbformat_minor": 4
}