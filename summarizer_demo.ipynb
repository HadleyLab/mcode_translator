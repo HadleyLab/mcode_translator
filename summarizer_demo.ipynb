{
 "cells": [
  {
   "cell_type": "markdown",
   "metadata": {},
   "source": [
    "# mCODE Summarizer Demo - Command Line Usage\n",
    "\n",
    "This notebook demonstrates command line usage of the abstracted mCODE summarizer.\n",
    "\n",
    "## Key Features:\n",
    "- ✅ **Exact syntactic structure** for ALL mCODE elements\n",
    "- ✅ **mCODE as subject** with detailed codes in predicate\n",
    "- ✅ **Clinical priority grouping** for optimal NLP processing\n",
    "- ✅ **Lean and performant** - reduced from ~2330 to ~240 lines\n",
    "- ✅ **No legacy code** or unnecessary fallbacks\n",
    "- ✅ **Detail level switches** for fine-grained control\n",
    "\n",
    "## Syntactic Structure:\n",
    "```\n",
    "Subject's [attribute] (mCODE: Element) is [value] ([codes])\n",
    "```\n",
    "\n",
    "## Command Line Usage:\n",
    "```bash\n",
    "# Run the complete demo\n",
    "python examples/demo_summarizer_cli.py\n",
    "\n",
    "# Show element configurations\n",
    "python examples/demo_summarizer_cli.py --config\n",
    "\n",
    "# Minimal detail level\n",
    "python examples/demo_summarizer_cli.py --minimal\n",
    "\n",
    "# Standard detail level with mCODE\n",
    "python examples/demo_summarizer_cli.py --standard\n",
    "\n",
    "# Test all detail level combinations\n",
    "python examples/demo_summarizer_cli.py --all\n",
    "```"
   ]
  },
  {
   "cell_type": "markdown",
   "metadata": {},
   "source": [
    "## 1. Complete Demo\n",
    "\n",
    "Run the full demonstration showing all features:"
   ]
  },
  {
   "cell_type": "code",
   "execution_count": null,
   "metadata": {},
   "outputs": [],
   "source": [
    "!python examples/demo_summarizer_cli.py"
   ]
  },
  {
   "cell_type": "markdown",
   "metadata": {},
   "source": [
    "## 2. Element Configuration\n",
    "\n",
    "Show how many mCODE elements are configured:"
   ]
  },
  {
   "cell_type": "code",
   "execution_count": null,
   "metadata": {},
   "outputs": [],
   "source": [
    "!python examples/demo_summarizer_cli.py --config"
   ]
  },
  {
   "cell_type": "markdown",
   "metadata": {},
   "source": [
    "## 3. Minimal Detail Level\n",
    "\n",
    "Create a minimal summary with no codes or mCODE annotations for clean, concise output."
   ]
  },
  {
   "cell_type": "code",
   "execution_count": null,
   "metadata": {},
   "outputs": [],
   "source": [
    "!python examples/demo_summarizer_cli.py --minimal"
   ]
  },
  {
   "cell_type": "markdown",
   "metadata": {},
   "source": [
    "## 4. Standard Detail Level\n",
    "\n",
    "Create a standard summary with codes and mCODE annotations for moderate detail."
   ]
  },
  {
   "cell_type": "code",
   "execution_count": null,
   "metadata": {},
   "outputs": [],
   "source": [
    "!python examples/demo_summarizer_cli.py --standard"
   ]
  },
  {
   "cell_type": "markdown",
   "metadata": {},
   "source": [
    "## 5. Detail Level Switches\n",
    "\n",
    "Test all 12 detail level combinations:"
   ]
  },
  {
   "cell_type": "code",
   "execution_count": null,
   "metadata": {},
   "outputs": [],
   "source": [
    "!python examples/demo_summarizer_cli.py --all"
   ]
  }
 ],
 "metadata": {
  "kernelspec": {
   "display_name": "Python 3",
   "language": "python",
   "name": "python3"
  },
  "language_info": {
   "codemirror_mode": {
    "name": "ipython",
    "version": 3
   },
   "file_extension": ".py",
   "mimetype": "text/x-python",
   "name": "python",
   "nbconvert_exporter": "python",
   "pygments_lexer": "ipython3",
   "version": "3.8.5"
  }
 },
 "nbformat": 4,
 "nbformat_minor": 4
}