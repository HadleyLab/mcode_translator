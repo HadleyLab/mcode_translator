{
 "cells": [
  {
   "cell_type": "markdown",
   "metadata": {},
   "source": [
    "# 🚀 **mCODE Translation Workflow**\n",
    "\n",
    "A comprehensive guide to the mCODE translation workflow, from quick-start data processing to advanced CLI tooling and AI model optimization."
   ]
  },
  {
   "cell_type": "markdown",
   "metadata": {},
   "source": [
    "## 🏁 **Quick Start: Process and Ingest Data**\n",
    "\n",
    "This section provides a fast track to get data processed and stored in CORE Memory using default settings."
   ]
  },
  {
   "cell_type": "code",
   "execution_count": null,
   "metadata": {},
   "outputs": [],
   "source": [
    "NUM_TRIALS = 2\n",
    "NUM_PATIENTS = 2\n",
    "DEFAULT_MODEL = 'deepseek-coder'\n",
    "DEFAULT_PROMPT = 'direct_mcode_evidence_based_concise'\n",
    "\n",
    "!python -m src.cli.mcode_translate fetch-trials --condition \"breast cancer\" --limit {NUM_TRIALS} --out raw_trials.ndjson\n",
    "!python -m src.cli.mcode_translate fetch-patients --archive breast_cancer_10_years --limit {NUM_PATIENTS} --out raw_patients.ndjson\n",
    "!python -m src.cli.mcode_translate process-trials raw_trials.ndjson --out mcode_trials.ndjson --model {DEFAULT_MODEL} --prompt {DEFAULT_PROMPT}\n",
    "!python -m src.cli.mcode_translate process-patients --in raw_patients.ndjson --out mcode_patients.ndjson\n",
    "!python -m src.cli.mcode_translate summarize-trials --in mcode_trials.ndjson --model {DEFAULT_MODEL} --ingest\n",
    "!python -m src.cli.mcode_translate summarize-patients --in mcode_patients.ndjson --ingest"
   ]
  },
  {
   "cell_type": "markdown",
   "metadata": {},
   "source": [
    "## 🛠️ **CLI Tools Demonstration**\n",
    "\n",
    "Explore the full capabilities of the unified CLI."
   ]
  },
  {
   "cell_type": "code",
   "execution_count": null,
   "metadata": {},
   "outputs": [],
   "source": [
    "!python -m src.cli.mcode_translate --help"
   ]
  },
  {
   "cell_type": "code",
   "execution_count": null,
   "metadata": {},
   "outputs": [],
   "source": [
    "!python -m src.cli.mcode_translate download-data --list"
   ]
  },
    {
   "cell_type": "code",
   "execution_count": null,
   "metadata": {},
   "outputs": [],
   "source": [
    "!python -m src.cli.mcode_translate run-tests --help"
   ]
  },
  {
   "cell_type": "markdown",
   "metadata": {},
   "source": [
    "## 🧪 **Advanced: AI Model Optimization**\n",
    "\n",
    "Find the best AI model and prompt for your specific data."
   ]
  },
  {
   "cell_type": "code",
   "execution_count": null,
   "metadata": {},
   "outputs": [],
   "source": [
    "!python -m src.cli.mcode_translate optimize-trials --list-models"
   ]
  },
  {
   "cell_type": "code",
   "execution_count": null,
   "metadata": {},
   "outputs": [],
   "source": [
    "!python -m src.cli.mcode_translate optimize-trials --list-prompts"
   ]
  },
  {
   "cell_type": "code",
   "execution_count": null,
   "metadata": {},
   "outputs": [],
   "source": [
    "# Run optimization and save the best configuration\n",
    "!python -m src.cli.mcode_translate optimize-trials --trials-file raw_trials.ndjson --cv-folds 3 --save-config optimal_config.json\n",
    "\n",
    "# You can then use this config in other commands\n",
    "with open('optimal_config.json', 'r') as f:\n",
    "    config = json.load(f)\n",
    "    BEST_MODEL = config['optimal_settings']['model']\n",
    "    BEST_PROMPT = config['optimal_settings']['prompt']\n",
    "\n",
    "!python -m src.cli.mcode_translate process-trials raw_trials.ndjson --out mcode_trials_optimized.ndjson --model {BEST_MODEL} --prompt {BEST_PROMPT}"
   ]
  },
  {
   "cell_type": "markdown",
   "metadata": {},
   "source": [
    "## 📈 **Large-Scale Ingestion**\n",
    "\n",
    "Process a larger dataset for a more comprehensive knowledge base."
   ]
  },
  {
   "cell_type": "code",
   "execution_count": null,
   "metadata": {},
   "outputs": [],
   "source": [
    "LARGE_SCALE_LIMIT = 25\n",
    "!python -m src.cli.mcode_translate fetch-trials --condition \"lung cancer\" --limit {LARGE_SCALE_LIMIT} --out large_raw_trials.ndjson\n",
    "!python -m src.cli.mcode_translate process-trials large_raw_trials.ndjson --out large_mcode_trials.ndjson --model {BEST_MODEL} --prompt {BEST_PROMPT}\n",
    "!python -m src.cli.mcode_translate summarize-trials --in large_mcode_trials.ndjson --model {BEST_MODEL} --ingest"
   ]
  }
 ],
 "metadata": {
  "kernelspec": {
   "display_name": "Python 3",
   "language": "python",
   "name": "python3"
  },
  "language_info": {
   "codemirror_mode": {
    "name": "ipython",
    "version": 3
   },
   "file_extension": ".py",
   "mimetype": "text/x-python",
   "name": "python",
   "nbconvert_exporter": "python",
   "pygments_lexer": "ipython3",
   "version": "3.9.1"
  }
 },
 "nbformat": 4,
 "nbformat_minor": 5
}