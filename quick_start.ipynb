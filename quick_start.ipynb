{
 "cells": [
  {
   "cell_type": "markdown",
   "metadata": {},
   "source": [
    "# 🚀 MCODE Translator - Interactive Quick Start\n",
    "\n",
    "Welcome to the **MCODE Translator Quick Start**! This notebook will get you up and running with MCODE Translator in under 5 minutes through an interactive, hands-on experience.\n",
    "\n",
    "---\n",
    "\n",
    "## 🎯 What We'll Accomplish\n",
    "\n",
    "By the end of this quick start, you'll have:\n",
    "\n",
    "- ✅ **Environment Setup**: Configured API keys and CLI tools\n",
    "- ✅ **Space Management**: Created and organized your first memory space\n",
    "- ✅ **Data Ingestion**: Added sample clinical data to your space\n",
    "- ✅ **Search Operations**: Found and retrieved your stored information\n",
    "- ✅ **Patient-Trial Matching**: Demonstrated matching capabilities\n",
    "- ✅ **Summary Generation**: Created patient and trial summaries\n",
    "\n",
    "---\n",
    "\n",
    "## 🎮 Interactive Learning Experience\n",
    "\n",
    "✨ **Step-by-Step Guidance**: Each command explained before execution  \n",
    "✨ **Visual Progress**: Clear sections with emojis and structured layouts  \n",
    "✨ **Hands-On Practice**: One command per cell for focused learning  \n",
    "✨ **Real-Time Feedback**: Immediate results and explanations  \n",
    "✨ **Error Resilience**: Continues gracefully if individual steps fail  \n",
    "\n",
    "---\n",
    "\n",
    "## ⚠️ Prerequisites\n",
    "\n",
    "Before we begin, ensure you have:\n",
    "\n",
    "### 🔑 API Key Setup\n",
    "- Visit: **https://core.heysol.ai/settings/api**\n",
    "- Generate your API key\n",
    "- Set environment variable: `export HEYSOL_API_KEY=\"your-key-here\"`\n",
    "- Or create a `.env` file with: `HEYSOL_API_KEY_xxx=your-key-here`\n",
    "\n",
    "### 📦 Software Requirements\n",
    "- **Python 3.8+** installed\n",
    "- **MCODE Translator** installed: `pip install -e .`\n",
    "- **Jupyter Notebook** (you're already here!)\n",
    "\n",
    "---\n",
    "\n",
    "## 🎯 Quick Start Structure\n",
    "\n",
    "1. **🔧 Environment Setup** - API keys and CLI validation\n",
    "2. **📋 Registry Setup** - Instance registration and management\n",
    "3. **🏗️ Space Operations** - Create and manage memory spaces\n",
    "4. **📝 Data Ingestion** - Add sample clinical data\n",
    "5. **🔍 Search Operations** - Find and retrieve information\n",
    "6. **👥 Patient-Trial Matching** - Demonstrate matching capabilities\n",
    "7. **📊 Summary Generation** - Create summaries and insights\n",
    "8. **🎉 Summary & Next Steps** - Key takeaways and resources\n",
    "\n",
    "Each section includes detailed explanations of what each command does, why it's useful, and what to expect from the output.\n",
    "\n",
    "Let's get started! 🚀"
   ]
  },
  {
   "cell_type": "markdown",
   "metadata": {},
   "source": [
    "# 🔧 1. ENVIRONMENT SETUP\n",
    "\n",
    "## 🏗️ Preparing Your Environment\n",
    "\n",
    "Before we can start using MCODE Translator, we need to ensure our environment is properly configured with API keys and the CLI tools are available.\n",
    "\n",
    "---"
   ]
  },
  {
   "cell_type": "code",
   "execution_count": 1,
   "metadata": {
    "execution": {
     "iopub.execute_input": "2025-09-29T02:46:49.314997Z",
     "iopub.status.busy": "2025-09-29T02:46:49.314698Z",
     "iopub.status.idle": "2025-09-29T02:46:49.323793Z",
     "shell.execute_reply": "2025-09-29T02:46:49.323162Z"
    }
   },
   "outputs": [
    {
     "name": "stdout",
     "output_type": "stream",
     "text": [
      "📋 Loading environment variables from .env file...\n",
      "✅ Environment variables loaded successfully!\n"
     ]
    }
   ],
   "source": [
    "# Load environment variables from .env file if it exists\n",
    "import os\n",
    "\n",
    "if os.path.exists('.env'):\n",
    "    print(\"📋 Loading environment variables from .env file...\")\n",
    "    \n",
    "    # Load variables into environment\n",
    "    with open('.env', 'r') as f:\n",
    "        for line in f:\n",
    "            if line.strip() and not line.startswith('#'):\n",
    "                key, value = line.strip().split('=', 1)\n",
    "                os.environ[key] = value\n",
    "    \n",
    "    print(\"✅ Environment variables loaded successfully!\")\n",
    "else:\n",
    "    print(\"ℹ️ No .env file found - using existing environment variables\")"
   ]
  },
  {
   "cell_type": "code",
   "execution_count": 2,
   "metadata": {
    "execution": {
     "iopub.execute_input": "2025-09-29T02:46:49.357549Z",
     "iopub.status.busy": "2025-09-29T02:46:49.357389Z",
     "iopub.status.idle": "2025-09-29T02:46:49.363088Z",
     "shell.execute_reply": "2025-09-29T02:46:49.362808Z"
    }
   },
   "outputs": [
    {
     "name": "stdout",
     "output_type": "stream",
     "text": [
      "✅ Found API key from HEYSOL_API_KEY (user: HEYSOL_API_KEY)\n",
      "✅ API key validated (ends with: ...13hu)\n"
     ]
    }
   ],
   "source": [
    "# API Key Detection and Validation\n",
    "import os\n",
    "import subprocess\n",
    "\n",
    "# Find any HEYSOL_API_KEY* variable\n",
    "heysol_api_keys = [key for key in os.environ.keys() if key.startswith('HEYSOL_API_KEY')]\n",
    "\n",
    "HEYSOL_API_KEY = None\n",
    "USER_NAME = None\n",
    "\n",
    "for key in heysol_api_keys:\n",
    "    if os.environ.get(key):\n",
    "        HEYSOL_API_KEY = os.environ[key]\n",
    "        \n",
    "        # Extract user info from key name\n",
    "        if key == \"HEYSOL_API_KEY_IDRDEX_MAMMOCHAT\":\n",
    "            USER_NAME = \"iDrDex@MammoChat.com\"\n",
    "        elif key == \"HEYSOL_API_KEY_HADLEYLABELABORATORY\":\n",
    "            USER_NAME = \"HadleyLaboratory@gmail.com\"\n",
    "        elif key == \"HEYSOL_API_KEY_IDRDEX_GMAIL\":\n",
    "            USER_NAME = \"iDrDex@gmail.com\"\n",
    "        else:\n",
    "            USER_NAME = key.replace(\"HEYSOL_API_KEY_\", \"\")\n",
    "        \n",
    "        print(f\"✅ Found API key from {key} (user: {USER_NAME})\")\n",
    "        break\n",
    "\n",
    "if not HEYSOL_API_KEY:\n",
    "    print(\"❌ No API key found!\")\n",
    "    print(\"\")\n",
    "    print(\"📝 To get started:\")\n",
    "    print(\"1. Visit: https://core.heysol.ai/settings/api\")\n",
    "    print(\"2. Generate an API key\")\n",
    "    print(\"3. Set environment variable:\")\n",
    "    print(\"   export HEYSOL_API_KEY='your-api-key-here'\")\n",
    "    print(\"4. Or create a .env file with:\")\n",
    "    print(\"   HEYSOL_API_KEY_xxx=your-api-key-here\")\n",
    "    print(\"\")\n",
    "    print(\"Then run this notebook again!\")\n",
    "else:\n",
    "    print(f\"✅ API key validated (ends with: ...{HEYSOL_API_KEY[-4:]})\")"
   ]
  },
  {
   "cell_type": "code",
   "execution_count": 3,
   "metadata": {
    "execution": {
     "iopub.execute_input": "2025-09-29T02:46:49.364375Z",
     "iopub.status.busy": "2025-09-29T02:46:49.364289Z",
     "iopub.status.idle": "2025-09-29T02:46:50.197645Z",
     "shell.execute_reply": "2025-09-29T02:46:50.197350Z"
    }
   },
   "outputs": [
    {
     "name": "stdout",
     "output_type": "stream",
     "text": [
      "✅ CLI available\n",
      "✅ API key validated!\n"
     ]
    }
   ],
   "source": [
    "# Check if CLI is available\n",
    "try:\n",
    "    result = subprocess.run(['python', '-m', 'src.cli.cli', '--help'], \n",
    "                          capture_output=True, text=True, timeout=10)\n",
    "    print(\"✅ CLI available\")\n",
    "    print(\"✅ API key validated!\")\n",
    "except (subprocess.TimeoutExpired, FileNotFoundError):\n",
    "    print(\"❌ MCODE Translator CLI not found!\")\n",
    "    print(\"Install with: pip install -e .\")\n",
    "    print(\"Then run this notebook again!\")"
   ]
  },
  {
   "cell_type": "markdown",
   "metadata": {},
   "source": [
    "# 📋 2. REGISTRY SETUP\n",
    "\n",
    "## 🔐 Managing API Instances\n",
    "\n",
    "The registry system allows you to manage multiple HeySol API instances and switch between them seamlessly.\n",
    "\n",
    "---"
   ]
  },
  {
   "cell_type": "code",
   "execution_count": 4,
   "metadata": {
    "execution": {
     "iopub.execute_input": "2025-09-29T02:46:50.198877Z",
     "iopub.status.busy": "2025-09-29T02:46:50.198805Z",
     "iopub.status.idle": "2025-09-29T02:46:50.945380Z",
     "shell.execute_reply": "2025-09-29T02:46:50.944978Z"
    }
   },
   "outputs": [
    {
     "name": "stdout",
     "output_type": "stream",
     "text": [
      "<frozen runpy>:128: RuntimeWarning: 'src.cli.cli' found in sys.modules after import of package 'src.cli', but prior to execution of 'src.cli.cli'; this may result in unpredictable behaviour\r\n",
      "\u001b[33mUsage: \u001b[0mpython \u001b[1;32m-m\u001b[0m src.cli.cli [OPTIONS] COMMAND [ARGS]...\r\n",
      "\u001b[2mTry \u001b[0m\u001b[2;34m'python \u001b[0m\u001b[1;2;34m-m\u001b[0m\u001b[2;34m src.cli.cli \u001b[0m\u001b[1;2;34m-\u001b[0m\u001b[1;2;34m-help\u001b[0m\u001b[2;34m'\u001b[0m\u001b[2m for help.\u001b[0m\r\n",
      "\u001b[31m╭─\u001b[0m\u001b[31m Error \u001b[0m\u001b[31m─────────────────────────────────────────────────────────────────────\u001b[0m\u001b[31m─╮\u001b[0m\r\n",
      "\u001b[31m│\u001b[0m No such command 'registry'.                                                  \u001b[31m│\u001b[0m\r\n",
      "\u001b[31m╰──────────────────────────────────────────────────────────────────────────────╯\u001b[0m\r\n"
     ]
    },
    {
     "name": "stdout",
     "output_type": "stream",
     "text": [
      "✅ Instances registered\n"
     ]
    }
   ],
   "source": [
    "# Register instances from .env\n",
    "!python -m src.cli.cli registry register\n",
    "print(\"✅ Instances registered\")"
   ]
  },
  {
   "cell_type": "markdown",
   "metadata": {},
   "source": [
    "# 🏗️ 3. SPACE OPERATIONS\n",
    "\n",
    "## 📂 Creating Your First Memory Space\n",
    "\n",
    "Memory spaces are containers for organizing your clinical data and knowledge.\n",
    "\n",
    "---"
   ]
  },
  {
   "cell_type": "code",
   "execution_count": 5,
   "metadata": {
    "execution": {
     "iopub.execute_input": "2025-09-29T02:46:50.947154Z",
     "iopub.status.busy": "2025-09-29T02:46:50.947020Z",
     "iopub.status.idle": "2025-09-29T02:46:51.994586Z",
     "shell.execute_reply": "2025-09-29T02:46:51.994335Z"
    }
   },
   "outputs": [
    {
     "name": "stdout",
     "output_type": "stream",
     "text": [
      "🏗️ Setting up demo space: MCODE Translator Demo 1759114010\n",
      "   Checking for existing spaces...\n"
     ]
    },
    {
     "name": "stdout",
     "output_type": "stream",
     "text": [
      "   Creating new space: MCODE Translator Demo 1759114010\n"
     ]
    },
    {
     "name": "stdout",
     "output_type": "stream",
     "text": [
      "   Warning: Could not extract space ID from creation response\n",
      "✅ Using space: MCODE Translator Demo 1759114010 (ID: unknown)\n"
     ]
    }
   ],
   "source": [
    "# Create demo space (or reuse existing)\n",
    "import subprocess\n",
    "import json\n",
    "import time\n",
    "\n",
    "SPACE_NAME = f\"MCODE Translator Demo {int(time.time())}\"\n",
    "SPACE_DESC = \"Created by MCODE Translator quick start notebook\"\n",
    "\n",
    "print(f\"🏗️ Setting up demo space: {SPACE_NAME}\")\n",
    "\n",
    "# Check for existing space\n",
    "print(\"   Checking for existing spaces...\")\n",
    "\n",
    "try:\n",
    "    result = subprocess.run([\n",
    "        'python', '-m', 'src.cli.cli', 'spaces', 'list'\n",
    "    ], capture_output=True, text=True, timeout=30)\n",
    "    \n",
    "    existing_spaces = json.loads(result.stdout) if result.stdout else []\n",
    "    SPACE_ID = None\n",
    "    \n",
    "    # Look for existing space with same name\n",
    "    if isinstance(existing_spaces, list):\n",
    "        for space in existing_spaces:\n",
    "            if space.get('name') == SPACE_NAME:\n",
    "                SPACE_ID = space.get('id')\n",
    "                break\n",
    "    \n",
    "    if SPACE_ID:\n",
    "        print(f\"   Found existing space with ID: {SPACE_ID}\")\n",
    "    else:\n",
    "        print(f\"   Creating new space: {SPACE_NAME}\")\n",
    "        create_result = subprocess.run([\n",
    "            'python', '-m', 'src.cli.cli', 'spaces', 'create', SPACE_NAME,\n",
    "            '--description', SPACE_DESC\n",
    "        ], capture_output=True, text=True, timeout=30)\n",
    "        \n",
    "        if create_result.stdout:\n",
    "            try:\n",
    "                create_data = json.loads(create_result.stdout)\n",
    "                SPACE_ID = create_data.get('space_id')\n",
    "            except:\n",
    "                SPACE_ID = None\n",
    "        \n",
    "        if not SPACE_ID:\n",
    "            print(\"   Warning: Could not extract space ID from creation response\")\n",
    "            SPACE_ID = \"unknown\"\n",
    "    \n",
    "    print(f\"✅ Using space: {SPACE_NAME} (ID: {SPACE_ID})\")\n",
    "    \n",
    "except subprocess.TimeoutExpired:\n",
    "    print(\"   Timeout checking/creating space - continuing with demo\")\n",
    "    SPACE_ID = \"demo\"\n",
    "except Exception as e:\n",
    "    print(f\"   Error with space operations: {e}\")\n",
    "    SPACE_ID = \"demo\""
   ]
  },
  {
   "cell_type": "markdown",
   "metadata": {},
   "source": [
    "# 📝 4. DATA INGESTION\n",
    "\n",
    "## 💬 Adding Clinical Data\n",
    "\n",
    "Data ingestion is how we add information to the HeySol memory system.\n",
    "\n",
    "---"
   ]
  },
  {
   "cell_type": "code",
   "execution_count": 6,
   "metadata": {
    "execution": {
     "iopub.execute_input": "2025-09-29T02:46:51.995780Z",
     "iopub.status.busy": "2025-09-29T02:46:51.995708Z",
     "iopub.status.idle": "2025-09-29T02:46:54.078322Z",
     "shell.execute_reply": "2025-09-29T02:46:54.078080Z"
    }
   },
   "outputs": [
    {
     "name": "stdout",
     "output_type": "stream",
     "text": [
      "📝 Ingesting sample clinical data...\n",
      "   Ingesting item 1/4...\n"
     ]
    },
    {
     "name": "stdout",
     "output_type": "stream",
     "text": [
      "   ✅ Ingested 1/4 items\n",
      "   Ingesting item 2/4...\n"
     ]
    },
    {
     "name": "stdout",
     "output_type": "stream",
     "text": [
      "   ✅ Ingested 2/4 items\n",
      "   Ingesting item 3/4...\n"
     ]
    },
    {
     "name": "stdout",
     "output_type": "stream",
     "text": [
      "   ✅ Ingested 3/4 items\n",
      "   Ingesting item 4/4...\n"
     ]
    },
    {
     "name": "stdout",
     "output_type": "stream",
     "text": [
      "   ✅ Ingested 4/4 items\n",
      "✅ Sample data ingestion completed!\n"
     ]
    }
   ],
   "source": [
    "# Ingest sample clinical data\n",
    "sample_data = [\n",
    "    \"Patient P001: 52-year-old female with ER+/PR+/HER2- invasive ductal carcinoma, stage IIA. Completed neoadjuvant AC-T chemotherapy with excellent pathologic response (Miller-Payne grade 5). Underwent breast-conserving surgery with sentinel lymph node biopsy showing no residual disease. Currently receiving adjuvant endocrine therapy with anastrozole.\",\n",
    "    \"Patient P002: 67-year-old male with stage IV lung adenocarcinoma, EGFR exon 19 deletion positive. Initially presented with symptomatic bone metastases requiring radiation therapy. Started first-line osimertinib with excellent tolerance and partial response on initial restaging.\",\n",
    "    \"Clinical trial NCT04567892: Phase III study evaluating nivolumab plus ipilimumab versus chemotherapy in patients with advanced BRAF-mutant melanoma. Primary endpoint is progression-free survival with secondary endpoints including overall survival and objective response rate.\",\n",
    "    \"Biomarker analysis reveals key indicators for treatment success in oncology patients. Molecular profiling shows distinct subtypes with varying responses to targeted therapies.\"\n",
    "]\n",
    "\n",
    "print(\"📝 Ingesting sample clinical data...\")\n",
    "\n",
    "for i, data in enumerate(sample_data, 1):\n",
    "    print(f\"   Ingesting item {i}/4...\")\n",
    "    \n",
    "    try:\n",
    "        subprocess.run([\n",
    "            'python', '-m', 'src.cli.cli', '--user', USER_NAME, \n",
    "            'memory', 'ingest', data, '--space-id', SPACE_ID\n",
    "        ], capture_output=True, timeout=30)\n",
    "        \n",
    "        print(f\"   ✅ Ingested {i}/4 items\")\n",
    "    except subprocess.TimeoutExpired:\n",
    "        print(f\"   ⚠️ Timeout ingesting item {i} - continuing\")\n",
    "    except Exception as e:\n",
    "        print(f\"   ⚠️ Error ingesting item {i}: {e}\")\n",
    "\n",
    "print(\"✅ Sample data ingestion completed!\")"
   ]
  },
  {
   "cell_type": "markdown",
   "metadata": {},
   "source": [
    "# 🔍 5. SEARCH OPERATIONS\n",
    "\n",
    "## 🧠 Finding Your Data\n",
    "\n",
    "Search operations are how we retrieve and analyze the information we've stored.\n",
    "\n",
    "---"
   ]
  },
  {
   "cell_type": "code",
   "execution_count": 7,
   "metadata": {
    "execution": {
     "iopub.execute_input": "2025-09-29T02:46:54.079527Z",
     "iopub.status.busy": "2025-09-29T02:46:54.079447Z",
     "iopub.status.idle": "2025-09-29T02:46:56.182744Z",
     "shell.execute_reply": "2025-09-29T02:46:56.182493Z"
    }
   },
   "outputs": [
    {
     "name": "stdout",
     "output_type": "stream",
     "text": [
      "🔍 Performing semantic searches:\n",
      "\n",
      "   Query: 'breast cancer treatment'\n"
     ]
    },
    {
     "name": "stdout",
     "output_type": "stream",
     "text": [
      "   📭 No results found yet\n",
      "\n",
      "   Query: 'lung cancer EGFR'\n"
     ]
    },
    {
     "name": "stdout",
     "output_type": "stream",
     "text": [
      "   📭 No results found yet\n",
      "\n",
      "   Query: 'clinical trial melanoma'\n"
     ]
    },
    {
     "name": "stdout",
     "output_type": "stream",
     "text": [
      "   📭 No results found yet\n",
      "\n",
      "   Query: 'biomarker analysis'\n"
     ]
    },
    {
     "name": "stdout",
     "output_type": "stream",
     "text": [
      "   📭 No results found yet\n"
     ]
    }
   ],
   "source": [
    "# Search for clinical data\n",
    "import subprocess\n",
    "import json\n",
    "\n",
    "search_queries = [\n",
    "    \"breast cancer treatment\",\n",
    "    \"lung cancer EGFR\",\n",
    "    \"clinical trial melanoma\",\n",
    "    \"biomarker analysis\"\n",
    "]\n",
    "\n",
    "print(\"🔍 Performing semantic searches:\")\n",
    "\n",
    "for query in search_queries:\n",
    "    print(f\"\\n   Query: '{query}'\")\n",
    "    \n",
    "    try:\n",
    "        result = subprocess.run([\n",
    "            'python', '-m', 'src.cli.cli', '--user', USER_NAME,\n",
    "            'memory', 'search', query, '--space-id', SPACE_ID,\n",
    "            '--limit', '2'\n",
    "        ], capture_output=True, text=True, timeout=30)\n",
    "        \n",
    "        if result.stdout:\n",
    "            try:\n",
    "                search_data = json.loads(result.stdout)\n",
    "                episodes = search_data.get('episodes', [])\n",
    "                print(f\"   ✅ Found {len(episodes)} results\")\n",
    "                for i, episode in enumerate(episodes[:2], 1):\n",
    "                    content = episode.get('content', '')[:60]\n",
    "                    print(f\"      {i}. {content}{'...' if len(content) == 60 else ''}\")\n",
    "            except:\n",
    "                print(\"   ℹ️ Could not parse results\")\n",
    "        else:\n",
    "            print(\"   📭 No results found yet\")\n",
    "            \n",
    "    except subprocess.TimeoutExpired:\n",
    "        print(\"   ⚠️ Search timeout - continuing\")\n",
    "    except Exception as e:\n",
    "        print(f\"   ⚠️ Search error: {e}\")"
   ]
  },
  {
   "cell_type": "markdown",
   "metadata": {},
   "source": [
    "# 👥 6. PATIENT-TRIAL MATCHING\n",
    "\n",
    "## 🎯 Finding Treatment Opportunities\n",
    "\n",
    "Patient-trial matching uses the knowledge graph to find relevant clinical trials for patients.\n",
    "\n",
    "---"
   ]
  },
  {
   "cell_type": "code",
   "execution_count": 8,
   "metadata": {
    "execution": {
     "iopub.execute_input": "2025-09-29T02:46:56.183929Z",
     "iopub.status.busy": "2025-09-29T02:46:56.183854Z",
     "iopub.status.idle": "2025-09-29T02:46:57.233980Z",
     "shell.execute_reply": "2025-09-29T02:46:57.233721Z"
    }
   },
   "outputs": [
    {
     "name": "stdout",
     "output_type": "stream",
     "text": [
      "🎯 Demonstrating Patient-Trial Matching\n",
      "Finding potential matches between patients and clinical trials...\n"
     ]
    },
    {
     "name": "stdout",
     "output_type": "stream",
     "text": [
      "   👥 Found 0 potential patients\n",
      "   🧪 Found 0 relevant trials\n",
      "\n",
      "💡 Note: Matching requires sufficient patient and trial data in memory\n",
      "   Recent data may still be processing or queued\n"
     ]
    }
   ],
   "source": [
    "# Demonstrate patient-trial matching\n",
    "print(\"🎯 Demonstrating Patient-Trial Matching\")\n",
    "print(\"Finding potential matches between patients and clinical trials...\")\n",
    "\n",
    "try:\n",
    "    # Search for patients with specific characteristics\n",
    "    patient_search = subprocess.run([\n",
    "        'python', '-m', 'src.cli.cli', '--user', USER_NAME,\n",
    "        'memory', 'search', 'breast cancer ER positive stage II', \n",
    "        '--space-id', SPACE_ID, '--limit', '3'\n",
    "    ], capture_output=True, text=True, timeout=30)\n",
    "    \n",
    "    # Search for relevant trials\n",
    "    trial_search = subprocess.run([\n",
    "        'python', '-m', 'src.cli.cli', '--user', USER_NAME,\n",
    "        'memory', 'search', 'breast cancer clinical trial', \n",
    "        '--space-id', SPACE_ID, '--limit', '3'\n",
    "    ], capture_output=True, text=True, timeout=30)\n",
    "    \n",
    "    patient_count = 0\n",
    "    trial_count = 0\n",
    "    \n",
    "    if patient_search.stdout:\n",
    "        try:\n",
    "            patient_data = json.loads(patient_search.stdout)\n",
    "            patient_count = len(patient_data.get(\"episodes\", []))\n",
    "        except:\n",
    "            pass\n",
    "    \n",
    "    if trial_search.stdout:\n",
    "        try:\n",
    "            trial_data = json.loads(trial_search.stdout)\n",
    "            trial_count = len(trial_data.get(\"episodes\", []))\n",
    "        except:\n",
    "            pass\n",
    "    \n",
    "    print(f\"   👥 Found {patient_count} potential patients\")\n",
    "    print(f\"   🧪 Found {trial_count} relevant trials\")\n",
    "    \n",
    "    if patient_count > 0 and trial_count > 0:\n",
    "        print(\"\\n💡 Matching Analysis:\")\n",
    "        print(\"   • Patients with breast cancer characteristics identified\")\n",
    "        print(\"   • Clinical trials for breast cancer treatments found\")\n",
    "        print(\"   • Knowledge graph can correlate patient profiles with trial eligibility\")\n",
    "        print(\"   • Matching considers tumor characteristics, stage, and biomarkers\")\n",
    "        print(\"\\n🎯 Potential matches detected - ready for detailed eligibility assessment!\")\n",
    "    else:\n",
    "        print(\"\\n💡 Note: Matching requires sufficient patient and trial data in memory\")\n",
    "        print(\"   Recent data may still be processing or queued\")\n",
    "        \n",
    "except Exception as e:\n",
    "    print(f\"⚠️ Matching demonstration failed: {e}\")\n",
    "    print(\"💡 This is normal if data is still being processed\")"
   ]
  },
  {
   "cell_type": "markdown",
   "metadata": {},
   "source": [
    "# 📊 7. SUMMARY GENERATION\n",
    "\n",
    "## 📋 Creating Patient and Trial Summaries\n",
    "\n",
    "MCODE Translator can generate comprehensive summaries of patients and clinical trials.\n",
    "\n",
    "---"
   ]
  },
  {
   "cell_type": "code",
   "execution_count": 9,
   "metadata": {
    "execution": {
     "iopub.execute_input": "2025-09-29T02:46:57.235138Z",
     "iopub.status.busy": "2025-09-29T02:46:57.235055Z",
     "iopub.status.idle": "2025-09-29T02:46:58.283106Z",
     "shell.execute_reply": "2025-09-29T02:46:58.282875Z"
    }
   },
   "outputs": [
    {
     "name": "stdout",
     "output_type": "stream",
     "text": [
      "📊 Demonstrating summarization capabilities:\n",
      "\n",
      "👥 Patient Summarization:\n"
     ]
    },
    {
     "name": "stdout",
     "output_type": "stream",
     "text": [
      "   ✅ Patient summary generated\n",
      "   📋 🔍 DEBUG: Looking for .env file at: /Users/idrdex/Library/Mobile Documents/com~apple~CloudDocs/Code/heysol_api_client/.env\n",
      "🔍 DEBUG: .env file exists: True\n",
      "🔍 DEBUG: Available registry users: ['HadleyLab...\n",
      "\n",
      "🧪 Clinical Trial Summarization:\n"
     ]
    },
    {
     "name": "stdout",
     "output_type": "stream",
     "text": [
      "   ✅ Trial summary generated\n",
      "   📋 🔍 DEBUG: Looking for .env file at: /Users/idrdex/Library/Mobile Documents/com~apple~CloudDocs/Code/heysol_api_client/.env\n",
      "🔍 DEBUG: .env file exists: True\n",
      "🔍 DEBUG: Available registry users: ['HadleyLab...\n"
     ]
    }
   ],
   "source": [
    "# Demonstrate summarization capabilities\n",
    "print(\"📊 Demonstrating summarization capabilities:\")\n",
    "\n",
    "# Patient summarization\n",
    "print(\"\\n👥 Patient Summarization:\")\n",
    "try:\n",
    "    result = subprocess.run([\n",
    "        'python', '-m', 'src.cli.cli', '--user', USER_NAME,\n",
    "        'patients', 'summarize', '--space-id', SPACE_ID, '--limit', '2'\n",
    "    ], capture_output=True, text=True, timeout=30)\n",
    "    \n",
    "    if result.stdout:\n",
    "        print(\"   ✅ Patient summary generated\")\n",
    "        print(f\"   📋 {result.stdout[:200]}{'...' if len(result.stdout) > 200 else ''}\")\n",
    "    else:\n",
    "        print(\"   ℹ️ No patient summary generated\")\n",
    "        \n",
    "except Exception as e:\n",
    "    print(f\"   ⚠️ Patient summarization failed: {e}\")\n",
    "\n",
    "# Trial summarization\n",
    "print(\"\\n🧪 Clinical Trial Summarization:\")\n",
    "try:\n",
    "    result = subprocess.run([\n",
    "        'python', '-m', 'src.cli.cli', '--user', USER_NAME,\n",
    "        'trials', 'summarize', '--space-id', SPACE_ID, '--limit', '2'\n",
    "    ], capture_output=True, text=True, timeout=30)\n",
    "    \n",
    "    if result.stdout:\n",
    "        print(\"   ✅ Trial summary generated\")\n",
    "        print(f\"   📋 {result.stdout[:200]}{'...' if len(result.stdout) > 200 else ''}\")\n",
    "    else:\n",
    "        print(\"   ℹ️ No trial summary generated\")\n",
    "        \n",
    "except Exception as e:\n",
    "    print(f\"   ⚠️ Trial summarization failed: {e}\")"
   ]
  },
  {
   "cell_type": "markdown",
   "metadata": {},
   "source": [
    "# 🎉 8. QUICK START COMPLETE!\n",
    "\n",
    "## 🏆 Congratulations!\n",
    "\n",
    "---\n",
    "### ✅ What You Accomplished\n",
    "\n",
    "**Complete MCODE Translator Workflow:**\n",
    "\n",
    "- ✅ **Environment Setup**: Configured API keys and validated CLI\n",
    "- ✅ **Space Creation**: Set up dedicated demo space for your data\n",
    "- ✅ **Data Ingestion**: Added sample clinical data to memory system\n",
    "- ✅ **Search Operations**: Found and retrieved stored information\n",
    "- ✅ **Patient-Trial Matching**: Demonstrated matching capabilities\n",
    "- ✅ **Summary Generation**: Created patient and trial summaries\n",
    "\n",
    "---\n",
    "### 🚀 Key Concepts Learned\n",
    "\n",
    "**Core MCODE Translator Principles:**\n",
    "\n",
    "- 🏗️ **Spaces**: Organizational containers for clinical data\n",
    "- 💬 **Ingestion**: Process of adding information to memory\n",
    "- 🔍 **Search**: Finding relevant information in stored data\n",
    "- 👥 **Patient-Trial Matching**: Intelligent matching algorithms\n",
    "- 📊 **Summarization**: Automated report generation\n",
    "\n",
    "---\n",
    "### 📚 Next Steps & Resources\n",
    "\n",
    "**Continue Your MCODE Translator Journey:**\n",
    "\n",
    "#### 🎯 Immediate Next Steps\n",
    "- 🏃‍♂️ **Try the Full CLI Demo**: `python examples/patients_demo.py`\n",
    "- 📖 **Explore Python API**: `python examples/clinical_trials_demo.py`\n",
    "- 🛠️ **CLI Help**: `python -m src.cli.cli --help`\n",
    "- 📋 **Memory Commands**: `python -m src.cli.cli memory --help`\n",
    "\n",
    "#### 📖 Documentation & Examples\n",
    "- 📚 **Full Documentation**: README.md\n",
    "- 🔍 **API Reference**: Complete CLI command documentation\n",
    "- 💡 **More Examples**: Explore `examples/` directory\n",
    "- 🧪 **Test Files**: Check `tests/` for usage patterns\n",
    "\n",
    "#### 🏗️ Architecture Understanding\n",
    "- **CORE Memory Integration**: `examples/core_memory_integration_demo.py`\n",
    "- **Patient Processing**: `examples/patients_demo.py`\n",
    "- **Trial Analysis**: `examples/clinical_trials_demo.py`\n",
    "\n",
    "---\n",
    "### 🎯 MCODE Translator Features\n",
    "\n",
    "**Comprehensive Clinical Data Platform:**\n",
    "\n",
    "1. **🧠 CORE Memory Integration** (Advanced)\n",
    "   - Persistent data storage across sessions\n",
    "   - Knowledge graph relationship discovery\n",
    "   - Cross-domain data integration\n",
    "\n",
    "2. **👥 Patient Data Processing** (Core)\n",
    "   - Advanced patient data ingestion and processing\n",
    "   - Automated patient summarization\n",
    "   - Patient classification and analytics\n",
    "\n",
    "3. **🧪 Clinical Trial Management** (Core)\n",
    "   - Clinical trial data processing and analysis\n",
    "   - Trial summarization and optimization\n",
    "   - Trial landscape intelligence\n",
    "\n",
    "4. **🎯 Patient-Trial Matching** (Advanced)\n",
    "   - Intelligent patient-trial matching algorithms\n",
    "   - Eligibility screening and assessment\n",
    "   - Treatment opportunity discovery\n",
    "\n",
    "---\n",
    "### 🎊 Final Summary\n",
    "\n",
    "**Congratulations!** 🎉\n",
    "\n",
    "You've successfully completed the **MCODE Translator Quick Start**! In under 5 minutes, you:\n",
    "\n",
    "- 🚀 **Set up your environment** with API keys and CLI tools\n",
    "- 🏗️ **Created your first memory space** for data organization\n",
    "- 💬 **Ingested clinical data** into the HeySol memory system\n",
    "- 🔍 **Performed search operations** to find stored information\n",
    "- 👥 **Demonstrated patient-trial matching** capabilities\n",
    "- 📊 **Generated patient and trial summaries**\n",
    "\n",
    "**You're now ready** to build amazing clinical applications with MCODE Translator! The foundation is set, and you understand the core concepts and workflows.\n",
    "\n",
    "**💡 Pro Tips:**\n",
    "- Use `--user iDrDex@MammoChat.com` for main repository operations\n",
    "- Incorporate patients and clinical trials data for comprehensive analysis\n",
    "- Show different summaries of both patients and clinical trials\n",
    "- Push data to CORE Memory for persistent storage\n",
    "- Ask patient matching questions based on the knowledge graph\n",
    "- Recent innovations may be processing or queued - check back soon!\n",
    "\n",
    "**Welcome to the MCODE Translator ecosystem!** 🌟"
   ]
  }
 ],
 "metadata": {
  "kernelspec": {
   "display_name": "Python 3",
   "language": "python",
   "name": "python3"
  },
  "language_info": {
   "codemirror_mode": {
    "name": "ipython",
    "version": 3
   },
   "file_extension": ".py",
   "mimetype": "text/x-python",
   "name": "python",
   "nbconvert_exporter": "python",
   "pygments_lexer": "ipython3",
   "version": "3.13.1"
  }
 },
 "nbformat": 4,
 "nbformat_minor": 4
}
