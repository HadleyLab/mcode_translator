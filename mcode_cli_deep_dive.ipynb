{
 "cells": [
  {
   "cell_type": "markdown",
   "metadata": {},
   "source": [
    "# 🔬 **mCODE CLI Deep Dive: Advanced Features & Optimization**\n",
    "\n",
    "Welcome to the comprehensive guide to the mCODE Translation System CLI! This notebook explores all available commands, optimization techniques, and advanced features for clinical data processing.\n",
    "\n",
    "## 🎯 **What You'll Learn**\n",
    "\n",
    "This deep dive covers:\n",
    "- ✅ Complete CLI command reference with examples\n",
    "- ✅ AI model optimization and inter-rater reliability\n",
    "- ✅ Batch processing and performance tuning\n",
    "- ✅ Quality assurance and validation techniques\n",
    "- ✅ Configuration management and customization\n",
    "- ✅ Production deployment strategies\n",
    "\n",
    "## 📋 **Prerequisites**\n",
    "\n",
    "- Completed the [Quick Start Tutorial](mcode_quick_start.ipynb)\n",
    "- Familiarity with basic CLI usage\n",
    "- Understanding of clinical data concepts\n",
    "\n",
    "---"
   ]
  },
  {
   "cell_type": "markdown",
   "metadata": {},
   "source": [
    "## 🏗️ **System Architecture Overview**\n",
    "\n",
    "Before diving into the CLI, let's understand the system components:"
   ]
  },
  {
   "cell_type": "code",
   "execution_count": null,
   "metadata": {},
   "outputs": [],
   "source": [
    "# Display the complete CLI help to see all available commands\n",
    "print(\"🔧 Complete mCODE CLI Command Reference\")\n",
    "print(\"=\" * 50)\n",
    "!python mcode_translate.py --help"
   ]
  },
  {
   "cell_type": "markdown",
   "metadata": {},
   "source": [
    "## 📊 **Section 1: Data Acquisition Commands**\n",
    "\n",
    "The system supports multiple data sources and formats for comprehensive clinical data collection."
   ]
  },
  {
   "cell_type": "markdown",
   "metadata": {},
   "source": [
    "### 1.1 Clinical Trials Data (`fetch-trials`)\n",
    "\n",
    "Fetch clinical trial data from ClinicalTrials.gov with advanced filtering options."
   ]
  },
  {
   "cell_type": "code",
   "execution_count": null,
   "metadata": {},
   "outputs": [],
   "source": [
    "# Show detailed help for trial fetching\n",
    "print(\"📋 Clinical Trials Fetch Command Options\")\n",
    "print(\"-\" * 40)\n",
    "!python mcode_translate.py fetch-trials --help"
   ]
  },
  {
   "cell_type": "code",
   "execution_count": null,
   "metadata": {},
   "outputs": [],
   "source": [
    "# Example: Advanced trial filtering\n",
    "print(\"🔍 Advanced Trial Filtering Examples\")\n",
    "print(\"=\" * 40)\n",
    "\n",
    "# Fetch trials by specific condition with date filtering\n",
    "print(\"Example 1: Lung cancer trials from 2023\")\n",
    "!python mcode_translate.py fetch-trials --condition \"lung cancer\" --limit 2 --out lung_cancer_trials.ndjson\n",
    "\n",
    "# Fetch trials by NCT ID\n",
    "print(\"\\nExample 2: Specific trial by NCT ID\")\n",
    "!python mcode_translate.py fetch-trials --nct-id NCT12345678 --out specific_trial.ndjson\n",
    "\n",
    "# Fetch trials by sponsor\n",
    "print(\"\\nExample 3: Trials sponsored by pharmaceutical companies\")\n",
    "!python mcode_translate.py fetch-trials --sponsor \"Pfizer\" --limit 2 --out pfizer_trials.ndjson"
   ]
  },
  {
   "cell_type": "markdown",
   "metadata": {},
   "source": [
    "### 1.2 Patient Data (`fetch-patients`)\n",
    "\n",
    "Download synthetic patient data from MITRE's oncology archives with clinical realism."
   ]
  },
  {
   "cell_type": "code",
   "execution_count": null,
   "metadata": {},
   "outputs": [],
   "source": [
    "# Show patient data options\n",
    "print(\"👥 Patient Data Archives Available\")\n",
    "print(\"-\" * 35)\n",
    "!python mcode_translate.py download-data --list"
   ]
  },
  {
   "cell_type": "code",
   "execution_count": null,
   "metadata": {},
   "outputs": [],
   "source": [
    "# Example: Different patient data archives\n",
    "print(\"📊 Patient Data Archive Examples\")\n",
    "print(\"=\" * 35)\n",
    "\n",
    "# Fetch lung cancer patients with lifetime follow-up\n",
    "print(\"Example 1: Lung cancer patients (lifetime follow-up)\")\n",
    "!python mcode_translate.py fetch-patients --archive lung_cancer_lifetime --limit 2 --out lung_patients.ndjson\n",
    "\n",
    "# Fetch mixed cancer types (10-year horizon)\n",
    "print(\"\\nExample 2: Mixed cancer types (10-year follow-up)\")\n",
    "!python mcode_translate.py fetch-patients --archive mixed_cancer_10_years --limit 2 --out mixed_patients.ndjson"
   ]
  },
  {
   "cell_type": "markdown",
   "metadata": {},
   "source": [
    "## 🤖 **Section 2: AI Processing Commands**\n",
    "\n",
    "Transform unstructured clinical text into standardized mCODE elements using advanced AI models."
   ]
  },
  {
   "cell_type": "markdown",
   "metadata": {},
   "source": [
    "### 2.1 Trial Processing (`process-trials`)\n",
    "\n",
    "Extract mCODE elements from clinical trial protocols using configurable AI models and prompts."
   ]
  },
  {
   "cell_type": "code",
   "execution_count": null,
   "metadata": {},
   "outputs": [],
   "source": [
    "# Show processing options\n",
    "print(\"⚙️ Trial Processing Configuration Options\")\n",
    "print(\"-\" * 40)\n",
    "!python mcode_translate.py process-trials --help"
   ]
  },
  {
   "cell_type": "code",
   "execution_count": null,
   "metadata": {},
   "outputs": [],
   "source": [
    "# Example: Different AI models and prompts\n",
    "print(\"🔄 AI Model and Prompt Comparison\")\n",
    "print(\"=\" * 35)\n",
    "\n",
    "# First, fetch some trial data for testing\n",
    "!python mcode_translate.py fetch-trials --condition \"breast cancer\" --limit 1 --out test_trial.ndjson\n",
    "\n",
    "# Process with different configurations\n",
    "print(\"\\nExample 1: DeepSeek Coder with evidence-based prompt\")\n",
    "!python mcode_translate.py process-trials test_trial.ndjson --out trial_deepseek.ndjson --model deepseek-coder --prompt direct_mcode_evidence_based_concise\n",
    "\n",
    "print(\"\\nExample 2: DeepSeek Chat with comprehensive prompt\")\n",
    "!python mcode_translate.py process-trials test_trial.ndjson --out trial_chat.ndjson --model deepseek-chat --prompt direct_mcode_evidence_based"
   ]
  },
  {
   "cell_type": "markdown",
   "metadata": {},
   "source": [
    "### 2.2 Patient Processing (`process-patients`)\n",
    "\n",
    "Extract mCODE elements from patient records and link them with relevant clinical trials."
   ]
  },
  {
   "cell_type": "code",
   "execution_count": null,
   "metadata": {},
   "outputs": [],
   "source": [
    "# Show patient processing options\n",
    "print(\"🏥 Patient Processing with Trial Matching\")\n",
    "print(\"-\" * 40)\n",
    "!python mcode_translate.py process-patients --help"
   ]
  },
  {
   "cell_type": "code",
   "execution_count": null,
   "metadata": {},
   "outputs": [],
   "source": [
    "# Example: Patient processing with trial eligibility matching\n",
    "print(\"🔗 Patient Processing with Trial Matching\")\n",
    "print(\"=\" * 40)\n",
    "\n",
    "# Fetch patient data\n",
    "!python mcode_translate.py fetch-patients --archive breast_cancer_10_years --limit 1 --out test_patient.ndjson\n",
    "\n",
    "# Process patients with trial matching\n",
    "print(\"\\nProcessing patient with trial eligibility matching...\")\n",
    "!python mcode_translate.py process-patients --in test_patient.ndjson --out patient_matched.ndjson --trials trial_deepseek.ndjson --model deepseek-coder --prompt direct_mcode_evidence_based_concise"
   ]
  },
  {
   "cell_type": "markdown",
   "metadata": {},
   "source": [
    "## 📝 **Section 3: Summarization Commands**\n",
    "\n",
    "Generate human-readable summaries from processed mCODE data with clinical context."
   ]
  },
  {
   "cell_type": "code",
   "execution_count": null,
   "metadata": {},
   "outputs": [],
   "source": [
    "# Example: Generate comprehensive summaries\n",
    "print(\"📖 Generating Clinical Summaries\")\n",
    "print(\"=\" * 30)\n",
    "\n",
    "# Summarize trials with different detail levels\n",
    "print(\"Trial Summary (Standard Detail):\")\n",
    "!python mcode_translate.py summarize-trials --in trial_deepseek.ndjson --out trial_summary_standard.md\n",
    "\n",
    "# Summarize patients\n",
    "print(\"\\nPatient Summary:\")\n",
    "!python mcode_translate.py summarize-patients --in patient_matched.ndjson --out patient_summary.md"
   ]
  },
  {
   "cell_type": "markdown",
   "metadata": {},
   "source": [
    "## 🎯 **Section 4: AI Model Optimization**\n",
    "\n",
    "The real power of the system: systematic comparison of AI models and prompts with statistical validation."
   ]
  },
  {
   "cell_type": "markdown",
   "metadata": {},
   "source": [
    "### 4.1 Available Models and Prompts\n",
    "\n",
    "First, let's see what AI models and prompt templates are available for optimization."
   ]
  },
  {
   "cell_type": "code",
   "execution_count": null,
   "metadata": {},
   "outputs": [],
   "source": [
    "# List available AI models\n",
    "print(\"🤖 Available AI Models\")\n",
    "print(\"=\" * 25)\n",
    "!python mcode_translate.py optimize-trials --list-models"
   ]
  },
  {
   "cell_type": "code",
   "execution_count": null,
   "metadata": {},
   "outputs": [],
   "source": [
    "# List available prompt templates\n",
    "print(\"\\n📝 Available Prompt Templates\")\n",
    "print(\"=\" * 30)\n",
    "!python mcode_translate.py optimize-trials --list-prompts"
   ]
  },
  {
   "cell_type": "markdown",
   "metadata": {},
   "source": [
    "### 4.2 Running Optimization\n",
    "\n",
    "Compare multiple AI models and prompts using cross-validation to find the optimal configuration."
   ]
  },
  {
   "cell_type": "code",
   "execution_count": null,
   "metadata": {},
   "outputs": [],
   "source": [
    "# Show optimization command options\n",
    "print(\"🔬 Optimization Command Options\")\n",
    "print(\"=\" * 30)\n",
    "!python mcode_translate.py optimize-trials --help"
   ]
  },
  {
   "cell_type": "code",
   "execution_count": null,
   "metadata": {},
   "outputs": [],
   "source": [
    "# Example: Full optimization run\n",
    "print(\"🧪 Running AI Model Optimization\")\n",
    "print(\"=\" * 35)\n",
    "print(\"This compares multiple models and prompts using cross-validation\")\n",
    "print(\"Expected runtime: 5-15 minutes depending on trial count\")\n",
    "\n",
    "# Fetch more trials for meaningful optimization\n",
    "!python mcode_translate.py fetch-trials --condition \"breast cancer\" --limit 5 --out optimization_trials.ndjson\n",
    "\n",
    "# Run optimization comparing two models and two prompts\n",
    "!python mcode_translate.py optimize-trials --trials-file optimization_trials.ndjson --models deepseek-coder,deepseek-chat --prompts direct_mcode_evidence_based_concise,direct_mcode_evidence_based --cv-folds 3"
   ]
  },
  {
   "cell_type": "markdown",
   "metadata": {},
   "source": [
    "### 4.3 Understanding Optimization Results\n",
    "\n",
    "The optimization generates comprehensive reports and analysis."
   ]
  },
  {
   "cell_type": "code",
   "execution_count": null,
   "metadata": {},
   "outputs": [],
   "source": [
    "# Examine optimization results\n",
    "print(\"📊 Optimization Results Analysis\")\n",
    "print(\"=\" * 35)\n",
    "\n",
    "# List generated reports\n",
    "print(\"Generated optimization reports:\")\n",
    "!ls -la optimization_runs/ | tail -5\n",
    "\n",
    "# Show the mega optimization report\n",
    "print(\"\\n🏆 Mega Optimization Report (Top Recommendations):\")\n",
    "print(\"-\" * 50)\n",
    "!ls optimization_runs/mega_optimization_report_*.md | tail -1 | xargs head -30"
   ]
  },
  {
   "cell_type": "markdown",
   "metadata": {},
   "source": [
    "## 🔍 **Section 5: Inter-Rater Reliability Analysis**\n",
    "\n",
    "A key innovation: measuring how consistently different AI models extract the same mCODE elements."
   ]
  },
  {
   "cell_type": "code",
   "execution_count": null,
   "metadata": {},
   "outputs": [],
   "source": [
    "# Inter-rater reliability is automatically calculated during optimization\n",
    "print(\"📈 Inter-Rater Reliability Metrics\")\n",
    "print(\"=\" * 35)\n",
    "print(\"\\nInter-rater reliability measures agreement between AI models on:\")\n",
    "print(\"• Presence of mCODE elements\")\n",
    "print(\"• Values of extracted elements\")\n",
    "print(\"• Overall consistency of extraction\")\n",
    "print(\"\\nKey metrics:\")\n",
    "print(\"• Cohen's Kappa: Agreement beyond chance\")\n",
    "print(\"• Percentage Agreement: Raw agreement rate\")\n",
    "print(\"• Fleiss' Kappa: Multi-rater agreement\")\n",
    "\n",
    "# Show inter-rater reliability report if available\n",
    "print(\"\\n🔍 Inter-Rater Reliability Report:\")\n",
    "!ls optimization_runs/inter_rater_reliability_report_*.md 2>/dev/null | tail -1 | xargs cat || echo \"Run optimization first to generate inter-rater reliability analysis\""
   ]
  },
  {
   "cell_type": "markdown",
   "metadata": {},
   "source": [
    "## ⚡ **Section 6: Performance & Scaling**\n",
    "\n",
    "Techniques for processing large datasets efficiently."
   ]
  },
  {
   "cell_type": "markdown",
   "metadata": {},
   "source": [
    "### 6.1 Concurrent Processing\n",
    "\n",
    "Use multiple workers for faster processing of large datasets."
   ]
  },
  {
   "cell_type": "code",
   "execution_count": null,
   "metadata": {},
   "outputs": [],
   "source": [
    "# Example: Batch processing with concurrency\n",
    "print(\"⚡ High-Performance Batch Processing\")\n",
    "print(\"=\" * 35)\n",
    "\n",
    "# Process large trial dataset with multiple workers\n",
    "print(\"Example: Processing breast cancer trial collection\")\n",
    "!python mcode_translate.py process-trials data/select_breast_cancer_trials.ndjson --out large_scale_trials.ndjson --model deepseek-coder --prompt direct_mcode_evidence_based_concise --concurrency 3\n",
    "\n",
    "# Generate summaries with parallel workers\n",
    "print(\"\\nGenerating summaries with 4 workers:\")\n",
    "!python mcode_translate.py summarize-trials --in large_scale_trials.ndjson --out large_scale_summary.md --workers 4"
   ]
  },
  {
   "cell_type": "markdown",
   "metadata": {},
   "source": [
    "### 6.2 Memory Management\n",
    "\n",
    "CORE Memory integration for persistent context and research continuity."
   ]
  },
  {
   "cell_type": "code",
   "execution_count": null,
   "metadata": {},
   "outputs": [],
   "source": [
    "# Example: Processing with CORE Memory storage\n",
    "print(\"🧠 CORE Memory Integration\")\n",
    "print(\"=\" * 25)\n",
    "print(\"\\nAll processing results are automatically stored in CORE Memory\")\n",
    "print(\"This enables:\")\n",
    "print(\"• Persistent research context across sessions\")\n",
    "print(\"• Incremental learning and improvement\")\n",
    "print(\"• Research continuity and collaboration\")\n",
    "\n",
    "# The --ingest flag enables CORE Memory storage\n",
    "print(\"\\nExample: Processing with memory storage enabled\")\n",
    "!python mcode_translate.py process-trials optimization_trials.ndjson --out memory_enabled_trials.ndjson --ingest --model deepseek-coder --prompt direct_mcode_evidence_based_concise"
   ]
  },
  {
   "cell_type": "markdown",
   "metadata": {},
   "source": [
    "## 🧪 **Section 7: Quality Assurance & Testing**\n",
    "\n",
    "Comprehensive testing and validation to ensure clinical accuracy and system reliability."
   ]
  },
  {
   "cell_type": "code",
   "execution_count": null,
   "metadata": {},
   "outputs": [],
   "source": [
    "# Run the complete test suite\n",
    "print(\"🧪 Running Complete Test Suite\")\n",
    "print(\"=\" * 30)\n",
    "print(\"This validates all system components and ensures reliability\")\n",
    "\n",
    "!python mcode_translate.py run-tests all"
   ]
  },
  {
   "cell_type": "code",
   "execution_count": null,
   "metadata": {},
   "outputs": [],
   "source": [
    "# Show test command options\n",
    "print(\"\\n📋 Test Command Options\")\n",
    "print(\"=\" * 25)\n",
    "!python mcode_translate.py run-tests --help"
   ]
  },
  {
   "cell_type": "markdown",
   "metadata": {},
   "source": [
    "## 🔧 **Section 8: Configuration & Customization**\n",
    "\n",
    "Advanced configuration options for production deployment."
   ]
  },
  {
   "cell_type": "code",
   "execution_count": null,
   "metadata": {},
   "outputs": [],
   "source": [
    "# Show configuration file structure\n",
    "print(\"⚙️ Configuration Files\")\n",
    "print(\"=\" * 25)\n",
    "print(\"\\nThe system uses JSON configuration files in src/config/:\")\n",
    "\n",
    "!ls -la src/config/\n",
    "\n",
    "print(\"\\n📁 Key Configuration Areas:\")\n",
    "print(\"• llms_config.json - AI model API keys and settings\")\n",
    "print(\"• prompts_config.json - Available prompt templates\")\n",
    "print(\"• validation_config.json - Data quality rules\")\n",
    "print(\"• logging_config.json - Logging configuration\")\n",
    "print(\"• core_memory_config.json - Memory storage settings\")"
   ]
  },
  {
   "cell_type": "markdown",
   "metadata": {},
   "source": [
    "## 📚 **Section 9: Educational Resources**\n",
    "\n",
    "Understanding mCODE elements and clinical data standards."
   ]
  },
  {
   "cell_type": "code",
   "execution_count": null,
   "metadata": {},
   "outputs": [],
   "source": [
    "# mCODE Element Reference\n",
    "print(\"📖 mCODE Element Types Reference\")\n",
    "print(\"=\" * 35)\n",
    "\n",
    "mcode_elements = {\n",
    "    \"CancerCondition\": \"Primary and secondary cancers, metastases\",\n",
    "    \"CancerTreatment\": \"Chemotherapy, radiation, immunotherapy, surgery\",\n",
    "    \"TNMStage\": \"Tumor staging (T1N0M0, Stage I, etc.)\",\n",
    "    \"PatientDemographics\": \"Age, sex, ethnicity, vital status\",\n",
    "    \"TumorMarker\": \"Biomarkers (HER2+, ER/PR status, etc.)\",\n",
    "    \"CancerRelatedMedication\": \"Specific drug treatments\",\n",
    "    \"Procedure\": \"Biopsies, surgeries, diagnostic procedures\",\n",
    "    \"LaboratoryResult\": \"Blood tests, pathology results\",\n",
    "    \"AdverseEvent\": \"Treatment side effects and complications\",\n",
    "    \"DiseaseStatus\": \"Progression, remission, stable disease\"\n",
    "}\n",
    "\n",
    "for element, description in mcode_elements.items():\n",
    "    print(f\"• **{element}**: {description}\")\n",
    "\n",
    "print(\"\\n💡 Each element includes standardized codes (SNOMED CT, ICD-10, etc.)\")\n",
    "print(\"   for interoperability across healthcare systems.\")"
   ]
  },
  {
   "cell_type": "markdown",
   "metadata": {},
   "source": [
    "## 🚀 **Section 10: Production Deployment**\n",
    "\n",
    "Strategies for deploying the mCODE system in clinical and research environments."
   ]
  },
  {
   "cell_type": "code",
   "execution_count": null,
   "metadata": {},
   "outputs": [],
   "source": [
    "# Production deployment checklist\n",
    "print(\"🏭 Production Deployment Checklist\")\n",
    "print(\"=\" * 35)\n",
    "\n",
    "checklist = [\n",
    "    \"✅ Configure API keys for AI models (src/config/llms_config.json)\",\n",
    "    \"✅ Set up CORE Memory storage for persistent context\",\n",
    "    \"✅ Test with representative clinical datasets\",\n",
    "    \"✅ Validate mCODE output against clinical standards\",\n",
    "    \"✅ Configure concurrent processing for large datasets\",\n",
    "    \"✅ Set up automated quality assurance checks\",\n",
    "    \"✅ Establish monitoring and logging for production use\",\n",
    "    \"✅ Document workflows and create training materials\",\n",
    "    \"✅ Plan for regular model updates and prompt optimization\",\n",
    "    \"✅ Establish data governance and privacy compliance\"\n",
    "]\n",
    "\n",
    "for item in checklist:\n",
    "    print(item)\n",
    "\n",
    "print(\"\\n🎯 Production Success Metrics:\")\n",
    "print(\"• >95% mCODE extraction accuracy\")\n",
    "print(\"• <5% error rate in processing\")\n",
    "print(\"• <10 minute processing time per 100 trials\")\n",
    "print(\"• >90% inter-rater reliability agreement\")"
   ]
  },
  {
   "cell_type": "markdown",
   "metadata": {},
   "source": [
    "## 🎉 **CLI Deep Dive Complete!**\n",
    "\n",
    "Congratulations! You've explored the complete mCODE Translation System CLI. Here's what you now know:\n",
    "\n",
    "### ✅ **Mastered Commands:**\n",
    "- **Data Acquisition**: `fetch-trials`, `fetch-patients`, `download-data`\n",
    "- **AI Processing**: `process-trials`, `process-patients`\n",
    "- **Analysis**: `summarize-trials`, `summarize-patients`, `optimize-trials`\n",
    "- **Quality Assurance**: `run-tests`\n",
    "\n",
    "### ✅ **Advanced Features:**\n",
    "- **Inter-rater reliability** analysis for AI model validation\n",
    "- **Cross-validation** optimization for robust evaluation\n",
    "- **Concurrent processing** for large-scale data handling\n",
    "- **CORE Memory integration** for persistent research context\n",
    "- **Comprehensive configuration** management\n",
    "\n",
    "### ✅ **Production Capabilities:**\n",
    "- **Scalable processing** with multiple workers\n",
    "- **Quality assurance** through automated testing\n",
    "- **Clinical standards** compliance (mCODE, SNOMED CT)\n",
    "- **Research workflows** with optimization and analysis\n",
    "\n",
    "### 🚀 **Next Steps:**\n",
    "\n",
    "**For Clinical Implementation:**\n",
    "- Deploy in healthcare environments with proper security\n",
    "- Integrate with EHR systems and clinical workflows\n",
    "- Establish clinical validation protocols\n",
    "- Train clinical staff on mCODE concepts\n",
    "\n",
    "**For Research Applications:**\n",
    "- Process large clinical trial databases\n",
    "- Enable cross-institutional research collaboration\n",
    "- Develop AI models for specific cancer types\n",
    "- Contribute to the advancement of oncology informatics\n",
    "\n",
    "### 💡 **Key Insights:**\n",
    "- **AI Reliability**: Modern LLMs can reliably extract structured clinical data\n",
    "- **Interoperability**: mCODE enables seamless data exchange across systems\n",
    "- **Quality Matters**: Inter-rater reliability ensures clinical trustworthiness\n",
    "- **Scale Enables Impact**: Large-scale processing powers real research insights\n",
    "\n",
    "**The mCODE Translation System is ready to transform oncology research and clinical care! 🚀**"
   ]
  }
 ],
 "metadata": {
  "kernelspec": {
   "display_name": "Python 3",
   "language": "python",
   "name": "python3"
  },
  "language_info": {
   "codemirror_mode": {
    "name": "ipython",
    "version": 3
   },
   "file_extension": ".py",
   "mimetype": "text/x-python",
   "name": "python",
   "nbconvert_exporter": "python",
   "pygments_lexer": "ipython3",
   "version": "3.11.13"
  }
 },
 "nbformat": 4,
 "nbformat_minor": 4
}