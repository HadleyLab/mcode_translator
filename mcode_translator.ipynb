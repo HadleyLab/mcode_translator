{
 "cells": [
  {
   "cell_type": "markdown",
   "metadata": {},
   "source": [
    "# \ud83d\ude80 **mCODE Translation Workflow**\n",
    "\n",
    "A comprehensive guide to the mCODE translation workflow, from quick-start data processing to advanced CLI tooling and AI model optimization."
   ]
  },
  {
   "cell_type": "markdown",
   "metadata": {},
   "source": [
    "## \ud83c\udfc1 **Quick Start: Process and Ingest Data**\n",
    "\n",
    "This section provides a fast track to get data processed and stored in CORE Memory using default settings."
   ]
  },
  {
   "cell_type": "code",
   "execution_count": null,
   "metadata": {},
   "outputs": [],
   "source": [
    "NUM_TRIALS = 2\n",
    "NUM_PATIENTS = 2\n",
    "DEFAULT_MODEL = \"deepseek-coder\"\n",
    "DEFAULT_PROMPT = \"direct_mcode_evidence_based_concise\""
   ]
  },
  {
   "cell_type": "markdown",
   "metadata": {},
   "source": [
    "## Fetch Clinical Trials\n",
    "\n",
    "This command fetches clinical trials related to breast cancer from external APIs."
   ]
  },
  {
   "cell_type": "code",
   "execution_count": null,
   "metadata": {},
   "outputs": [],
   "source": [
    "!python mcode_translate.py fetch-trials --condition \"breast cancer\" --limit {NUM_TRIALS} --out raw_trials.ndjson"
   ]
  },
  {
   "cell_type": "markdown",
   "metadata": {},
   "source": [
    "## Fetch Synthetic Patients\n",
    "\n",
    "This command fetches synthetic patient data from archives."
   ]
  },
  {
   "cell_type": "code",
   "execution_count": null,
   "metadata": {},
   "outputs": [],
   "source": [
    "!python mcode_translate.py fetch-patients --archive breast_cancer_10_years --limit {NUM_PATIENTS} --out raw_patients.ndjson"
   ]
  },
  {
   "cell_type": "markdown",
   "metadata": {},
   "source": [
    "## Process Trials to mCODE\n",
    "\n",
    "This command processes trial data into mCODE format."
   ]
  },
  {
   "cell_type": "code",
   "execution_count": null,
   "metadata": {},
   "outputs": [],
   "source": [
    "!python mcode_translate.py process-trials raw_trials.ndjson --out mcode_trials.ndjson --model {DEFAULT_MODEL} --prompt {DEFAULT_PROMPT}"
   ]
  },
  {
   "cell_type": "markdown",
   "metadata": {},
   "source": [
    "## \ud83d\udee0\ufe0f **CLI Tools Demonstration**\n",
    "\n",
    "Explore the full capabilities of the unified CLI."
   ]
  },
  {
   "cell_type": "markdown",
   "metadata": {},
   "source": [
    "## Display CLI Help\n",
    "\n",
    "This command displays the help information for the mCODE Translator CLI."
   ]
  },
  {
   "cell_type": "code",
   "execution_count": null,
   "metadata": {},
   "outputs": [],
   "source": [
    "!python mcode_translate.py --help"
   ]
  },
  {
   "cell_type": "markdown",
   "metadata": {},
   "source": [
    "## List Available Data Archives\n",
    "\n",
    "This command lists all available data archives that can be downloaded."
   ]
  },
  {
   "cell_type": "code",
   "execution_count": null,
   "metadata": {},
   "outputs": [],
   "source": [
    "!python mcode_translate.py download-data --list"
   ]
  },
  {
   "cell_type": "markdown",
   "metadata": {},
   "source": [
    "## Display Test Runner Help\n",
    "\n",
    "This command shows the help information for the test runner."
   ]
  },
  {
   "cell_type": "code",
   "execution_count": null,
   "metadata": {},
   "outputs": [],
   "source": [
    "!python mcode_translate.py run-tests all --help"
   ]
  }
 ],
 "metadata": {
  "kernelspec": {
   "display_name": "Python 3",
   "language": "python",
   "name": "python3"
  },
  "language_info": {
   "codemirror_mode": {
    "name": "ipython",
    "version": 3
   },
   "file_extension": ".py",
   "mimetype": "text/x-python",
   "name": "python",
   "nbconvert_exporter": "python",
   "pygments_lexer": "ipython3",
   "version": "3.8.5"
  }
 },
 "nbformat": 4,
 "nbformat_minor": 4
}