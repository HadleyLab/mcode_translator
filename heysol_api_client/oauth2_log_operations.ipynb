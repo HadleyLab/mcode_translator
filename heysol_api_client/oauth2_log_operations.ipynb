{
 "cells": [
  {
   "cell_type": "markdown",
   "metadata": {},
   "source": [
    "# 🔐 HeySol API Client - OAuth2 Log Operations\n",
    "\n",
    "## Complete OAuth2 Authentication and Log Management\n",
    "\n",
    "This notebook demonstrates the complete OAuth2 authentication flow with the HeySol API client, including:\n",
    "\n",
    "- ✅ **OAuth2 Browser Authentication** - Interactive Google OAuth2 login\n",
    "- ✅ **Log Ingestion** - Create and store log entries\n",
    "- ✅ **Log Deletion** - Remove log entries with OAuth2 tokens\n",
    "- ✅ **Error Handling** - Comprehensive error management and recovery\n",
    "- ✅ **Token Management** - Automatic refresh and validation\n",
    "\n",
    "## 🚀 Quick Start\n",
    "\n",
    "1. **Set Environment Variables**:\n",
    "   ```bash\n",
    "   export COREAI_OAUTH2_CLIENT_ID=\"your-client-id\"\n",
    "   export COREAI_OAUTH2_CLIENT_SECRET=\"your-client-secret\"\n",
    "   ```\n",
    "\n",
    "2. **Run All Cells** - Execute from top to bottom\n",
    "\n",
    "3. **Complete OAuth2 Flow** - Follow browser authentication\n",
    "\n",
    "4. **Watch Complete Demo** - Log ingestion → deletion → cleanup"
   ]
  },
  {
   "cell_type": "markdown",
   "metadata": {},
   "source": [
    "## 📋 Prerequisites and Setup"
   ]
  },
  {
   "cell_type": "code",
   "execution_count": null,
   "metadata": {},
   "outputs": [],
   "source": [
    "# Install required packages\n",
    "import sys\n",
    "import subprocess\n",
    "\n",
    "def install_package(package):\n",
    "    \"\"\"Install a package if not already installed.\"\"\"\n",
    "    try:\n",
    "        __import__(package)\n",
    "        print(f\"✅ {package} already installed\")\n",
    "    except ImportError:\n",
    "        print(f\"📦 Installing {package}...\")\n",
    "        subprocess.check_call([sys.executable, \"-m\", \"pip\", \"install\", package])\n",
    "        print(f\"✅ {package} installed successfully\")\n",
    "\n",
    "# Install required packages\n",
    "required_packages = [\n",
    "    \"requests\",\n",
    "    \"python-dotenv\",\n",
    "    \"urllib3\"\n",
    "]\n",
    "\n",
    "for package in required_packages:\n",
    "    install_package(package)\n",
    "\n",
    "print(\"\\n🎉 Setup complete!\")"
   ]
  },
  {
   "cell_type": "code",
   "execution_count": null,
   "metadata": {},
   "outputs": [],
   "source": [
    "# Import required modules\n",
    "import os\n",
    "import sys\n",
    "import time\n",
    "import json\n",
    "import logging\n",
    "from pathlib import Path\n",
    "from typing import Optional, Dict, Any\n",
    "from datetime import datetime\n",
    "\n",
    "# Load environment variables\n",
    "from dotenv import load_dotenv\n",
    "load_dotenv()\n",
    "\n",
    "# Add parent directory to Python path\n",
    "sys.path.insert(0, str(Path.cwd()))\n",
    "\n",
    "# Import centralized OAuth2 utilities\n",
    "from heysol.oauth2_utils import (\n",
    "    validate_oauth2_setup,\n",
    "    create_oauth2_demo_runner,\n",
    "    OAuth2ClientManager,\n",
    "    AuthenticationError,\n",
    "    ValidationError,\n",
    "    HeySolError\n",
    ")\n",
    "\n",
    "# Setup logging\n",
    "logging.basicConfig(\n",
    "    level=logging.INFO,\n",
    "    format=\"%(asctime)s - %(name)s - %(levelname)s - %(message)s\",\n",
    "    handlers=[\n",
    "        logging.StreamHandler(),\n",
    "        logging.FileHandler(\"oauth2_log_operations.log\")\n",
    "    ]\n",
    ")\n",
    "logger = logging.getLogger(__name__)\n",
    "\n",
    "print(\"✅ All imports successful!\")"
   ]
  },
  {
   "cell_type": "markdown",
   "metadata": {},
   "source": [
    "## 🔧 Configuration Check"
   ]
  },
  {
   "cell_type": "code",
   "execution_count": null,
   "metadata": {},
   "outputs": [],
   "source": [
    "def check_oauth2_config() -> bool:\n",
    "    \"\"\"Check if OAuth2 credentials are properly configured using centralized validation.\"\"\"\n",
    "    print(\"🔧 Checking OAuth2 Configuration...\")\n",
    "    try:\n",
    "        validate_oauth2_setup()\n",
    "        print(\"✅ OAuth2 configuration is valid\")\n",
    "        return True\n",
    "    except AuthenticationError as e:\n",
    "        print(f\"❌ OAuth2 configuration error: {e}\")\n",
    "        print(\"\\nTo fix this:\")\n",
    "        print(\"1. Set COREAI_OAUTH2_CLIENT_ID environment variable\")\n",
    "        print(\"2. Set COREAI_OAUTH2_CLIENT_SECRET environment variable\")\n",
    "        print(\"3. Ensure credentials are valid Google OAuth2 credentials\")\n",
    "        return False\n",
    "\n",
    "# Check configuration\n",
    "config_valid = check_oauth2_config()\n",
    "print(f\"Configuration valid: {config_valid}\")"
   ]
  },
  {
   "cell_type": "markdown",
   "metadata": {},
   "source": [
    "## 🔐 OAuth2 Information Display\n",
    "\n",
    "OAuth2 information display is now handled automatically by the centralized OAuth2DemoRunner.\n",
    "This eliminates duplicate code and ensures consistent information display across all interfaces."
   ]
  },
  {
   "cell_type": "code",
   "execution_count": null,
   "metadata": {},
   "outputs": [],
   "source": [
    "# OAuth2 information display is now handled by the centralized OAuth2DemoRunner\n",
    "# The display_oauth2_info function has been removed to eliminate duplication"
    ]
  },
  {
   "cell_type": "markdown",
   "metadata": {},
   "source": [
    "## 🎯 Complete OAuth2 Log Operations Demo\n",
    "\n",
    "Note: This demo now uses the centralized `OAuth2DemoRunner` from `oauth2_utils.py`.\n",
    "This eliminates duplicate code and ensures consistent behavior across CLI, demo, and notebook."
   ]
  },
  {
   "cell_type": "code",
   "execution_count": null,
   "metadata": {},
   "outputs": [],
   "source": [
    "# The OAuth2LogOperationsDemo class has been replaced with centralized OAuth2DemoRunner\n",
    "# from oauth2_utils.py to eliminate code duplication and ensure consistency."
   ]
  },
  {
   "cell_type": "markdown",
   "metadata": {},
   "source": [
    "## 🚀 Run Complete Demo"
   ]
  },
  {
   "cell_type": "code",
   "execution_count": null,
   "metadata": {},
   "outputs": [],
   "source": [
    "# Run the complete demo\n",
    "if config_valid:\n",
    "    print(\"\\n\" + \"🚀\" + \"=\"*58 + \"🚀\")\n",
    "    print(\"🎯 STARTING COMPLETE OAUTH2 LOG OPERATIONS DEMO\")\n",
    "    print(\"🚀\" + \"=\"*58 + \"🚀\")\n",
    "    \n",
    "    # Create demo instance using centralized utilities\n",
    "    demo_runner = create_oauth2_demo_runner()\n",
    "    \n",
    "    # Run the demo\n",
    "    results = demo_runner.run_complete_demo()\n",
    "    \n",
    "    # Display results\n",
    "    print(\"\\n\" + \"📊\" + \"=\"*58 + \"📊\")\n",
    "    print(\"🎯 DEMO RESULTS\")\n",
    "    print(\"📊\" + \"=\"*58 + \"📊\")\n",
    "    \n",
    "    print(f\"Timestamp: {results['timestamp']}\")\n",
    "    print(f\"Overall Success: {'✅ YES' if results['success'] else '❌ NO'}\")\n",
    "    \n",
    "    if 'error' in results:\n",
    "        print(f\"Error: {results['error']}\")\n",
    "    \n",
    "    print(f\"\\nSteps Completed: {len(results['steps'])}\")\n",
    "    \n",
    "    for i, step in enumerate(results['steps'], 1):\n",
    "        status_icon = \"✅\" if step['status'] == 'completed' else \"⚠️\" if step['status'] == 'completed_with_warning' else \"❌\"\n",
    "        print(f\"{i}. {status_icon} {step['step']}: {step['description']}\")\n",
    "    \n",
    "    # Save detailed results\n",
    "    with open(\"oauth2_log_operations_results.json\", \"w\") as f:\n",
    "        json.dump(results, f, indent=2, default=str)\n",
    "    \n",
    "    print(f\"\\n💾 Detailed results saved to: oauth2_log_operations_results.json\")\n",
    "    print(f\"📝 Debug logs saved to: oauth2_log_operations.log\")\n",
    "    \n",
    "    if results['success']:\n",
    "        print(\"\\n🎉 SUCCESS: OAuth2 log operations demo completed successfully!\")\n",
    "        print(\"\\nThe HeySol API client now supports:\")\n",
    "        print(\"✅ Interactive OAuth2 authentication\")\n",
    "        print(\"✅ Browser-based authorization\")\n",
    "        print(\"✅ Automatic token management\")\n",
    "        print(\"✅ Log ingestion with OAuth2\")\n",
    "        print(\"✅ Log deletion with OAuth2\")\n",
    "        print(\"✅ Error handling and token refresh\")\n",
    "    else:\n",
    "        print(\"\\n❌ FAILURE: OAuth2 log operations demo failed\")\n",
    "        print(\"Check the logs for details:\")\n",
    "        print(\"- oauth2_log_operations.log\")\n",
    "        print(\"- oauth2_client_debug.log\")\n",
    "        \n",
    "else:\n",
    "    print(\"❌ Cannot run demo: OAuth2 configuration is invalid\")\n",
    "    print(\"Please set COREAI_OAUTH2_CLIENT_ID and COREAI_OAUTH2_CLIENT_SECRET environment variables.\")"
   ]
  },
  {
   "cell_type": "markdown",
   "metadata": {},
   "source": [
    "## 📋 Manual Testing Functions"
   ]
  },
  {
   "cell_type": "code",
   "execution_count": null,
   "metadata": {},
   "outputs": [],
   "source": [
    "def manual_log_deletion_example(log_id: str):\n",
    "    \"\"\"Example of manual log deletion using centralized OAuth2 utilities.\"\"\"\n",
    "    print(f\"\\n🗑️ Manual Log Deletion Example\")\n",
    "    print(f\"Target Log ID: {log_id}\")\n",
    "    print(\"-\" * 40)\n",
    "    try:\n",
    "        # Create OAuth2 demo runner for centralized operations\n",
    "        demo_runner = create_oauth2_demo_runner()\n",
    "        log_ops = demo_runner.log_ops\n",
    "        # Delete the log entry using centralized operations\n",
    "        print(f\"Deleting log entry: {log_id}\")\n",
    "        result = log_ops.delete_log(log_id)\n",
    "        print(f\"✅ Successfully deleted log entry: {log_id}\")\n",
    "        print(f\"   Details: {result}\")\n",
    "    except ValidationError as e:\n",
    "        print(f\"❌ Validation error: {e}\")\n",
    "    except AuthenticationError as e:\n",
    "        print(f\"❌ Authentication error: {e}\")\n",
    "    except HeySolError as e:\n",
    "        print(f\"❌ API error: {e}\")\n",
    "    except Exception as e:\n",
    "        print(f\"❌ Unexpected error during manual deletion: {e}\")\n",
    "\n",
    "# Example usage (uncomment and provide a log ID to test)\n",
    "# manual_log_deletion_example(\"your-log-id-here\")"
   ]
  },
  {
   "cell_type": "markdown",
   "metadata": {},
   "source": [
    "## 🎯 Summary and Next Steps"
   ]
  },
  {
   "cell_type": "code",
   "execution_count": null,
   "metadata": {},
   "outputs": [],
   "source": [
    "# Summary\n",
    "print(\"\\n\" + \"📋\" + \"=\"*58 + \"📋\")\n",
    "print(\"🎯 OAUTH2 LOG OPERATIONS DEMO SUMMARY\")\n",
    "print(\"📋\" + \"=\"*58 + \"📋\")\n",
    "\n",
    "print(\"✅ What was demonstrated:\")\n",
    "print(\"  1. OAuth2 client initialization\")\n",
    "print(\"  2. Interactive OAuth2 authorization with browser automation\")\n",
    "print(\"  3. Automatic token management and refresh\")\n",
    "print(\"  4. Log ingestion with OAuth2 authentication\")\n",
    "print(\"  5. Log deletion with OAuth2 tokens\")\n",
    "print(\"  6. Comprehensive error handling\")\n",
    "print(\"  7. Production-ready authentication flow\")\n",
    "\n",
    "print(\"\\n🔧 Key Features:\")\n",
    "print(\"  - Secure OAuth2 authentication\")\n",
    "print(\"  - Interactive browser-based authorization\")\n",
    "print(\"  - Automatic token refresh on authentication errors\")\n",
    "print(\"  - Comprehensive error handling\")\n",
    "print(\"  - Detailed logging and progress tracking\")\n",
    "print(\"  - Self-contained implementation\")\n",
    "\n",
    "print(\"\\n📁 Files Generated:\")\n",
    "print(\"  - oauth2_log_operations.log (debug logs)\")\n",
    "print(\"  - oauth2_client_debug.log (client debug logs)\")\n",
    "print(\"  - oauth2_log_operations_results.json (detailed results)\")\n",
    "\n",
    "print(\"\\n🚀 Next Steps:\")\n",
    "print(\"  1. Set your OAuth2 credentials in environment variables\")\n",
    "print(\"  2. Run all cells in this notebook\")\n",
    "print(\"  3. Follow the browser authentication flow\")\n",
    "print(\"  4. Review the results and logs\")\n",
    "print(\"  5. Use the manual deletion example for specific log IDs\")\n",
    "\n",
    "print(\"\\n💡 Usage in your applications:\")\n",
    "print(\"  client = HeySolClient(use_oauth2=True)\")\n",
    "print(\"  client.authorize_oauth2_interactive()\")\n",
    "print(\"  result = client.delete_log_entry(log_id)\")\n",
    "\n",
    "print(\"\\n\" + \"🎉\" + \"=\"*58 + \"🎉\")\n",
    "print(\"🎯 DEMO COMPLETE - OAuth2 Log Operations Ready!\")\n",
    "print(\"🎉\" + \"=\"*58 + \"🎉\")"
   ]
  }
 ],
 "metadata": {
  "kernelspec": {
   "display_name": "Python 3",
   "language": "python",
   "name": "python3"
  },
  "language_info": {
   "codemirror_mode": {
    "name": "ipython",
    "version": 3
   },
   "file_extension": ".py",
   "mimetype": "text/x-python",
   "name": "python",
   "nbconvert_exporter": "python",
   "pygments_lexer": "ipython3",
   "version": "3.8.0"
  }
 },
 "nbformat": 4,
 "nbformat_minor": 4
}