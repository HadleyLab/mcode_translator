{
 "cells": [
  {
   "cell_type": "markdown",
   "metadata": {},
   "source": [
    "# CORE Memory Client Demo\n",
    "\n",
    "This notebook demonstrates the functionality of the updated `CoreMemoryClient` class, which provides comprehensive access to CORE Memory APIs including ingestion, search, logging, and space management.\n",
    "\n",
    "## Features Demonstrated\n",
    "\n",
    "**Working (MCP Protocol):**\n",
    "- ✅ Space management (list, create, details)\n",
    "- ✅ Data ingestion (via memory_ingest tool)\n",
    "- ✅ Knowledge graph search (via memory_search tool)\n",
    "\n",
    "**Pending (Direct API Endpoints):**\n",
    "- ⏳ Space updates\n",
    "- ⏳ Ingestion log management\n",
    "- ⏳ Individual and bulk log deletion\n",
    "- ⏳ Episode facts retrieval\n",
    "- ⏳ User profile access\n",
    "\n",
    "*Note: Some features return placeholder data until direct API endpoints are activated.*"
   ]
  },
  {
   "cell_type": "code",
   "execution_count": null,
   "metadata": {},
   "source": [
    "# Import required libraries\n",
    "import os\n",
    "import sys\n",
    "import json\n",
    "from pathlib import Path\n",
    "from pprint import pprint\n",
    "\n",
    "# Change to project root directory (same setup as mcode_translator.ipynb)\n",
    "current_dir = Path.cwd()\n",
    "if current_dir.name == 'examples':\n",
    "    project_root = current_dir.parent\n",
    "    os.chdir(project_root)\n",
    "    print(f\"📁 Changed working directory to: {project_root}\")\n",
    "else:\n",
    "    project_root = current_dir\n",
    "\n",
    "# Add project root to Python path\n",
    "if str(project_root) not in sys.path:\n",
    "    sys.path.insert(0, str(project_root))\n",
    "    print(\"✅ Added project root to Python path\")\n",
    "\n",
    "# Now we can import from src\n",
    "from src.utils.core_memory_client import CoreMemoryClient\n",
    "\n",
    "# Set your CORE Memory API key\n",
    "# You can set this in your environment or .env file as COREAI_API_KEY\n",
    "# For demo purposes, we'll assume it's set\n",
    "print(\"Make sure COREAI_API_KEY is set in your environment\")\n",
    "print(f\"📍 Current working directory: {Path.cwd()}\")\n",
    "\n",
    "# Helper function to pretty print JSON responses\n",
    "def print_json(data, title=\"Response\"):\n",
    "    print(f\"\\n{title}:\")\n",
    "    print(json.dumps(data, indent=2))"
   ]
  },
  {
   "cell_type": "code",
   "execution_count": null,
   "metadata": {},
   "source": [
    "# Initialize the client\n",
    "# The client will automatically load configuration from src/config/core_memory_config.json\n",
    "try:\n",
    "    client = CoreMemoryClient()\n",
    "    print(\"✅ CORE Memory Client initialized successfully\")\n",
    "    print(\"📋 Client loaded configuration:\")\n",
    "    print(f\"   - API Base URL: {client.url.split('?')[0]}\")\n",
    "    print(f\"   - Timeout: {client.timeout} seconds\")\n",
    "except Exception as e:\n",
    "    print(f\"❌ Failed to initialize CORE Memory Client: {e}\")\n",
    "    print(\"\\n🔧 Troubleshooting:\")\n",
    "    print(\"   1. Make sure COREAI_API_KEY is set in your environment\")\n",
    "    print(\"   2. Check that src/config/core_memory_config.json exists\")\n",
    "    print(\"   3. Verify the config file has valid JSON\")\n",
    "    raise  # Re-raise to stop execution"
   ]
  },
  {
   "cell_type": "markdown",
   "metadata": {},
   "source": [
    "## Space Management\n",
    "\n",
    "Let's start by exploring and managing spaces in CORE Memory."
   ]
  },
  {
   "cell_type": "code",
   "execution_count": null,
   "metadata": {},
   "source": [
    "# List all available spaces\n",
    "spaces = client.get_spaces()\n",
    "print(f\"📂 Found {len(spaces)} spaces:\")\n",
    "for space in spaces:\n",
    "    print(f\"   - {space.get('name')} (ID: {space.get('id')})\")"
   ]
  },
  {
   "cell_type": "code",
   "execution_count": null,
   "metadata": {},
   "source": [
    "# Search for spaces\n",
    "demo_spaces = client.get_spaces(query=\"demo\")\n",
    "print(f\"🔍 Found {len(demo_spaces)} spaces matching 'demo':\")\n",
    "for space in demo_spaces:\n",
    "    print(f\"   - {space.get('name')}\")"
   ]
  },
  {
   "cell_type": "code",
   "execution_count": null,
   "metadata": {},
   "source": [
    "# Create a demo space for testing\n",
    "demo_space_id = client.create_space(\n",
    "    name=\"Demo Space\",\n",
    "    description=\"A temporary space for demonstrating CORE Memory functionality\"\n",
    ")\n",
    "print(f\"✨ Created demo space with ID: {demo_space_id}\")"
   ]
  },
  {
   "cell_type": "code",
   "execution_count": null,
   "metadata": {},
   "source": [
    "# Get space details\n",
    "space_details = client.get_space_details(demo_space_id)\n",
    "print(\"📋 Space details:\")\n",
    "print(f\"   Name: {space_details.get('space').get('name')}\")\n",
    "print(f\"   Description: {space_details.get('space').get('description')}\")\n",
    "print(f\"   Created: {space_details.get('space').get('createdAt')}\")"
   ]
  },
  {
   "cell_type": "code",
   "execution_count": null,
   "metadata": {},
   "source": [
    "# Update space information (may not be supported by current API)\n",
    "try:\n",
    "    updated_space = client.update_space(\n",
    "        space_id=demo_space_id,\n",
    "        name=\"Updated Demo Space\",\n",
    "        description=\"An updated demo space for CORE Memory functionality\"\n",
    "    )\n",
    "    print(f\"✅ Updated space: {updated_space.get('name')}\")\n",
    "except Exception as e:\n",
    "    print(f\"⚠️  Space updates may not be supported: {e}\")\n",
    "    print(\"   Continuing with demo...\")"
   ]
  },
  {
   "cell_type": "markdown",
   "metadata": {},
   "source": [
    "## Data Ingestion\n",
    "\n",
    "Now let's ingest some sample data with different priorities and sources."
   ]
  },
  {
   "cell_type": "code",
   "execution_count": null,
   "metadata": {},
   "source": [
    "# Ingest sample data with different priorities and sources\n",
    "sample_data = [\n",
    "    {\n",
    "        \"message\": \"Patient John Doe diagnosed with Stage II breast cancer\",\n",
    "        \"source\": \"demo_clinical\",\n",
    "        \"priority\": \"high\",\n",
    "        \"tags\": [\"patient\", \"diagnosis\", \"breast_cancer\"]\n",
    "    },\n",
    "    {\n",
    "        \"message\": \"Clinical trial NCT12345678 for metastatic breast cancer\",\n",
    "        \"source\": \"demo_trials\",\n",
    "        \"priority\": \"normal\",\n",
    "        \"tags\": [\"clinical_trial\", \"breast_cancer\"]\n",
    "    },\n",
    "    {\n",
    "        \"message\": \"Research paper on immunotherapy for lung cancer\",\n",
    "        \"source\": \"demo_research\",\n",
    "        \"priority\": \"low\",\n",
    "        \"tags\": [\"research\", \"lung_cancer\", \"immunotherapy\"]\n",
    "    },\n",
    "    {\n",
    "        \"message\": \"Patient Jane Smith completed chemotherapy cycle\",\n",
    "        \"source\": \"demo_clinical\",\n",
    "        \"priority\": \"normal\",\n",
    "        \"tags\": [\"patient\", \"treatment\", \"chemotherapy\"]\n",
    "    }\n",
    "]\n",
    "\n",
    "ingestion_results = []\n",
    "for data in sample_data:\n",
    "    result = client.ingest(\n",
    "        message=data[\"message\"],\n",
    "        space_id=demo_space_id,\n",
    "        source=data[\"source\"],\n",
    "        priority=data[\"priority\"],\n",
    "        tags=data[\"tags\"]\n",
    "    )\n",
    "    ingestion_results.append(result)\n",
    "    print(f\"✅ Ingested: {data['message'][:50]}...\")\n",
    "    print(f\"   Result ID: {result.get('id', 'N/A')}\")\n",
    "    print()"
   ]
  },
  {
   "cell_type": "markdown",
   "metadata": {},
   "source": [
    "## Search Functionality\n",
    "\n",
    "Let's search the knowledge graph for ingested data."
   ]
  },
  {
   "cell_type": "code",
   "execution_count": null,
   "metadata": {},
   "source": [
    "# Search for breast cancer related content\n",
    "search_results = client.search(\n",
    "    query=\"breast cancer\",\n",
    "    space_id=demo_space_id,\n",
    "    limit=10\n",
    ")\n",
    "print(\"🔍 Search results for 'breast cancer':\")\n",
    "print(f\"   Episodes found: {len(search_results.get('episodes', []))}\")\n",
    "print(f\"   Facts found: {len(search_results.get('facts', []))}\")\n",
    "\n",
    "# Display episodes\n",
    "episodes = search_results.get('episodes', [])[:3]\n",
    "if episodes:\n",
    "    print(\"📄 Sample episodes:\")\n",
    "    for i, episode in enumerate(episodes, 1):\n",
    "        if isinstance(episode, dict):\n",
    "            content = episode.get('content', '')[:100]\n",
    "        else:\n",
    "            content = str(episode)[:100]\n",
    "        print(f\"   {i}. {content}...\")\n",
    "else:\n",
    "    print(\"   No episodes found\")\n",
    "\n",
    "# Show full search results in pretty format\n",
    "print_json(search_results, \"📊 Complete Search Results\")"
   ]
  },
  {
   "cell_type": "code",
   "execution_count": null,
   "metadata": {},
   "source": [
    "# Search for patient-related content\n",
    "patient_results = client.search(\n",
    "    query=\"patient\",\n",
    "    space_id=demo_space_id,\n",
    "    include_episodes=True,\n",
    "    include_facts=False\n",
    ")\n",
    "print(f\"👥 Found {len(patient_results.get('episodes', []))} patient-related episodes\")"
   ]
  },
  {
   "cell_type": "markdown",
   "metadata": {},
   "source": [
    "## Ingestion Log Management (PENDING)\n",
    "\n",
    "Ingestion log management features are currently pending API activation.\n",
    "These methods return placeholder data for demonstration purposes."
   ]
  },
  {
   "cell_type": "code",
   "execution_count": null,
   "metadata": {},
   "source": [
    "# Get ingestion logs for our demo space\n",
    "logs = client.get_ingestion_logs(space_id=demo_space_id, limit=20)\n",
    "print(f\"📋 Found {len(logs)} ingestion logs\")\n",
    "\n",
    "# Display log summary\n",
    "for log in logs[:5]:  # Show first 5\n",
    "    print(f\"📝 Log ID: {log.get('id')}\")\n",
    "    print(f\"   Source: {log.get('source')}\")\n",
    "    print(f\"   Status: {log.get('status')}\")\n",
    "    print(f\"   Message: {log.get('message', '')[:50]}...\")\n",
    "    print()"
   ]
  },
  {
   "cell_type": "code",
   "execution_count": null,
   "metadata": {},
   "source": [
    "# Get detailed information about a specific log\n",
    "if logs:\n",
    "    specific_log = client.get_specific_log(logs[0]['id'])\n",
    "    print_json(specific_log, \"🔍 Detailed Log Information\")\n",
    "else:\n",
    "    print(\"No logs available to examine\")"
   ]
  },
  {
   "cell_type": "markdown",
   "metadata": {},
   "source": [
    "## Individual Log Deletion\n",
    "\n",
    "Demonstrate deleting logs one by one."
   ]
  },
  {
   "cell_type": "code",
   "execution_count": null,
   "metadata": {},
   "source": [
    "# Delete individual logs from demo_research source\n",
    "research_logs = [log for log in logs if log.get('source') == 'demo_research']\n",
    "print(f\"🎯 Found {len(research_logs)} logs from demo_research source\")\n",
    "\n",
    "for log in research_logs:\n",
    "    try:\n",
    "        delete_result = client.delete_log_entry(log['id'])\n",
    "        print(f\"🗑️  Deleted log {log['id']}: Success\")\n",
    "    except Exception as e:\n",
    "        print(f\"❌ Failed to delete log {log['id']}: {e}\")"
   ]
  },
  {
   "cell_type": "markdown",
   "metadata": {},
   "source": [
    "## Bulk Log Deletion by Source\n",
    "\n",
    "Demonstrate deleting all logs from a specific source in bulk."
   ]
  },
  {
   "cell_type": "code",
   "execution_count": null,
   "metadata": {},
   "source": [
    "# Function to delete all logs from a specific source\n",
    "def delete_logs_by_source(source_name: str, space_id: Optional[str] = None):\n",
    "    \"\"\"\n",
    "    Delete all ingestion logs from a specific source.\n",
    "    \n",
    "    Args:\n",
    "        source_name: The source identifier to filter logs\n",
    "        space_id: Optional space ID to filter logs\n",
    "    \n",
    "    Returns:\n",
    "        Number of logs deleted\n",
    "    \"\"\"\n",
    "    # Get all logs for the source\n",
    "    all_logs = client.get_ingestion_logs(space_id=space_id, limit=1000)\n",
    "    source_logs = [log for log in all_logs if log.get('source') == source_name]\n",
    "    \n",
    "    deleted_count = 0\n",
    "    for log in source_logs:\n",
    "        try:\n",
    "            client.delete_log_entry(log['id'])\n",
    "            deleted_count += 1\n",
    "            print(f\"🗑️  Deleted log {log['id']} from source '{source_name}'\")\n",
    "        except Exception as e:\n",
    "            print(f\"❌ Failed to delete log {log['id']}: {e}\")\n",
    "    \n",
    "    return deleted_count\n",
    "\n",
    "# Delete all logs from demo_clinical source\n",
    "deleted_count = delete_logs_by_source('demo_clinical', demo_space_id)\n",
    "print(f\"\\n📊 Total logs deleted from demo_clinical: {deleted_count}\")"
   ]
  },
  {
   "cell_type": "code",
   "execution_count": null,
   "metadata": {},
   "source": [
    "# Delete remaining logs from demo_trials source\n",
    "deleted_count_trials = delete_logs_by_source('demo_trials', demo_space_id)\n",
    "print(f\"\\n📊 Total logs deleted from demo_trials: {deleted_count_trials}\")"
   ]
  },
  {
   "cell_type": "markdown",
   "metadata": {},
   "source": [
    "## Episode Facts (PENDING)\n",
    "\n",
    "Episode facts retrieval is currently pending API activation.\n",
    "This method returns placeholder data for demonstration purposes."
   ]
  },
  {
   "cell_type": "code",
   "execution_count": null,
   "metadata": {},
   "source": [
    "# Get episode facts from our demo space\n",
    "facts = client.get_episode_facts(space_id=demo_space_id, limit=10)\n",
    "print(f\"🧠 Found {len(facts)} episode facts\")\n",
    "\n",
    "# Display sample facts\n",
    "for fact in facts[:3]:\n",
    "    print(f\"💡 Fact: {fact.get('content', '')[:100]}...\")\n",
    "    print(f\"   Episode ID: {fact.get('episode_id')}\")\n",
    "    print(f\"   Confidence: {fact.get('confidence')}\")\n",
    "    print()"
   ]
  },
  {
   "cell_type": "markdown",
   "metadata": {},
   "source": [
    "## User Profile (PENDING)\n",
    "\n",
    "User profile access is currently pending API activation.\n",
    "This method returns placeholder data for demonstration purposes."
   ]
  },
  {
   "cell_type": "code",
   "execution_count": null,
   "metadata": {},
   "source": [
    "# Get user profile\n",
    "profile = client.get_user_profile()\n",
    "print_json(profile, \"👤 User Profile\")"
   ]
  },
  {
   "cell_type": "markdown",
   "metadata": {},
   "source": [
    "## Cleanup\n",
    "\n",
    "Clean up the demo space."
   ]
  },
  {
   "cell_type": "code",
   "execution_count": null,
   "metadata": {},
   "source": [
    "# Note: Space deletion might not be implemented in the API\n",
    "# For cleanup, you could manually delete the demo space through the CORE web interface\n",
    "print(\"🎉 Demo completed! Check the CORE web interface to verify the operations.\")\n",
    "print(f\"🏷️  Demo space ID: {demo_space_id}\")"
   ]
  }
 ],
 "metadata": {
  "kernelspec": {
   "display_name": "Python 3",
   "language": "python",
   "name": "python3"
  },
  "language_info": {
   "codemirror_mode": {
    "name": "ipython",
    "version": 3
   },
   "file_extension": ".py",
   "mimetype": "text/x-python",
   "name": "python",
   "nbconvert_exporter": "python",
   "pygments_lexer": "ipython3",
   "version": "3.8.5"
  }
 },
 "nbformat": 4,
 "nbformat_minor": 4
}