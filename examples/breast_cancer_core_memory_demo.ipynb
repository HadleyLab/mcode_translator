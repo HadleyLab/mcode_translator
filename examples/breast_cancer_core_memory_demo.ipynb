{
 "cells": [
  {
   "cell_type": "markdown",
   "metadata": {},
   "source": [
    "# 🩺 Breast Cancer CORE Memory Demo\n",
    "\n",
    "Transform breast cancer clinical trial and patient data into mCODE format and store in CORE Memory!\n",
    "\n",
    "## 🎯 What you'll accomplish:\n",
    "\n",
    "- 📥 Download breast cancer clinical trials from ClinicalTrials.gov\n",
    "- 👥 Fetch synthetic breast cancer patient data\n",
    "- 🔄 Convert data to standardized mCODE format\n",
    "- 🧠 Store mCODE summaries in CORE Memory\n",
    "- 🔍 Search and explore stored medical knowledge\n",
    "\n",
    "## ⚡ Features:\n",
    "\n",
    "- Configurable number of patients and trials\n",
    "- Automatic space creation in CORE Memory\n",
    "- Interactive progress tracking with emojis\n",
    "- Full mCODE compliance for oncology data"
   ]
  },
  {
   "cell_type": "code",
   "execution_count": null,
   "metadata": {},
   "source": [
    "# 📋 Configuration & Setup\n",
    "\n",
    "import os\n",
    "import sys\n",
    "import json\n",
    "from pathlib import Path\n",
    "\n",
    "# Change to project root directory\n",
    "current_dir = Path.cwd()\n",
    "if current_dir.name == 'examples':\n",
    "    project_root = current_dir.parent\n",
    "    os.chdir(project_root)\n",
    "    print(f\"📁 Changed working directory to: {project_root}\")\n",
    "else:\n",
    "    project_root = current_dir\n",
    "\n",
    "# Add project root to Python path\n",
    "if str(project_root) not in sys.path:\n",
    "    sys.path.insert(0, str(project_root))\n",
    "    print(\"✅ Added project root to Python path\")\n",
    "\n",
    "# Now we can import from src\n",
    "from src.utils.core_memory_client import CoreMemoryClient\n",
    "\n",
    "print(\"🎉 Environment ready!\")\n",
    "print(f\"📍 Current working directory: {Path.cwd()}\")"
   ]
  },
  {
   "cell_type": "code",
   "execution_count": null,
   "metadata": {},
   "source": [
    "# 🎛️ Demo Configuration\n",
    "\n",
    "# Set the number of patients and trials to process\n",
    "NUM_TRIALS = 3      # Number of breast cancer clinical trials to download\n",
    "NUM_PATIENTS = 2    # Number of synthetic breast cancer patients to fetch\n",
    "\n",
    "print(f\"🎯 Demo Configuration:\")\n",
    "print(f\"   📊 Clinical Trials: {NUM_TRIALS}\")\n",
    "print(f\"   👥 Synthetic Patients: {NUM_PATIENTS}\")\n",
    "print(f\"   🎨 Total Records: {NUM_TRIALS + NUM_PATIENTS}\")\n",
    "\n",
    "# Initialize CORE Memory client\n",
    "try:\n",
    "    client = CoreMemoryClient()\n",
    "    print(\"🧠 CORE Memory client initialized successfully!\")\n",
    "except Exception as e:\n",
    "    print(f\"❌ Failed to initialize CORE Memory client: {e}\")\n",
    "    print(\"💡 Make sure COREAI_API_KEY is set in your environment\")\n",
    "    raise"
   ]
  },
  {
   "cell_type": "markdown",
   "metadata": {},
   "source": [
    "## 🏗️ Space Management\n",
    "\n",
    "Create dedicated spaces in CORE Memory for clinical trials and patient data."
   ]
  },
  {
   "cell_type": "code",
   "execution_count": null,
   "metadata": {},
   "source": [
    "# 🏗️ Create CORE Memory Spaces\n",
    "\n",
    "print(\"🏗️ Setting up CORE Memory spaces...\")\n",
    "\n",
    "# Create space for clinical trials\n",
    "trials_space_id = client.get_clinical_trials_space_id()\n",
    "print(f\"📋 Clinical Trials Space: {trials_space_id}\")\n",
    "\n",
    "# Create space for patients\n",
    "patients_space_id = client.get_patients_space_id()\n",
    "print(f\"👥 Patients Space: {patients_space_id}\")\n",
    "\n",
    "# Show all spaces\n",
    "all_spaces = client.get_spaces()\n",
    "print(f\"\\n📂 Available Spaces ({len(all_spaces)}):\")\n",
    "for space in all_spaces:\n",
    "    marker = \"🎯\" if space.get('id') == trials_space_id else \"👤\" if space.get('id') == patients_space_id else \"📁\"\n",
    "    print(f\"   {marker} {space.get('name')} (ID: {space.get('id')})\")\n",
    "\n",
    "print(\"✅ Spaces ready for data storage!\")"
   ]
  },
  {
   "cell_type": "markdown",
   "metadata": {},
   "source": [
    "## 📥 Data Acquisition\n",
    "\n",
    "Download real clinical trial data and synthetic patient records."
   ]
  },
  {
   "cell_type": "code",
   "execution_count": null,
   "metadata": {},
   "source": [
    "# 📥 Download Breast Cancer Clinical Trials\n",
    "\n",
    "print(f\"📥 Downloading {NUM_TRIALS} breast cancer clinical trials...\")\n",
    "\n",
    "# Use the CLI to fetch trials (this creates raw_trials.ndjson)\n",
    "trials_command = f\"python -m src.cli.trials_fetcher --condition 'breast cancer' --limit {NUM_TRIALS} --out raw_trials.ndjson --workers 4 --verbose\"\n",
    "print(f\"🚀 Running: {trials_command}\")\n",
    "\n",
    "# Execute the command\n",
    "!{trials_command}\n",
    "\n",
    "# Check if file was created\n",
    "if Path('raw_trials.ndjson').exists():\n",
    "    print(\"✅ Clinical trials downloaded successfully!\")\n",
    "else:\n",
    "    print(\"❌ Failed to download clinical trials\")\n",
    "    print(\"💡 Check your ClinicalTrials.gov API key and internet connection\")"
   ]
  },
  {
   "cell_type": "code",
   "execution_count": null,
   "metadata": {},
   "source": [
    "# 👥 Download Synthetic Breast Cancer Patients\n",
    "\n",
    "print(f\"👥 Downloading {NUM_PATIENTS} synthetic breast cancer patients...\")\n",
    "\n",
    "# Use the CLI to fetch patients (this creates raw_patients.ndjson)\n",
    "patients_command = f\"python -m src.cli.patients_fetcher --archive breast_cancer_10_years --limit {NUM_PATIENTS} --out raw_patients.ndjson --verbose\"\n",
    "print(f\"🚀 Running: {patients_command}\")\n",
    "\n",
    "# Execute the command\n",
    "!{patients_command}\n",
    "\n",
    "# Check if file was created\n",
    "if Path('raw_patients.ndjson').exists():\n",
    "    print(\"✅ Synthetic patients downloaded successfully!\")\n",
    "else:\n",
    "    print(\"❌ Failed to download synthetic patients\")\n",
    "    print(\"💡 Check your internet connection and try downloading archives manually\")"
   ]
  },
  {
   "cell_type": "markdown",
   "metadata": {},
   "source": [
    "## 🔄 mCODE Conversion\n",
    "\n",
    "Convert raw clinical data to standardized mCODE format."
   ]
  },
  {
   "cell_type": "code",
   "execution_count": null,
   "metadata": {},
   "source": [
    "# 🔄 Convert Trials to mCODE Format\n",
    "\n",
    "print(\"🔄 Converting clinical trials to mCODE format...\")\n",
    "\n",
    "# Use the CLI to process trials to mCODE\n",
    "mcode_trials_command = \"python -m src.cli.trials_processor raw_trials.ndjson --out mcode_trials.ndjson --workers 4 --verbose\"\n",
    "print(f\"🚀 Running: {mcode_trials_command}\")\n",
    "\n",
    "# Execute the command\n",
    "!{mcode_trials_command}\n",
    "\n",
    "# Check results\n",
    "if Path('mcode_trials.ndjson').exists():\n",
    "    print(\"✅ Clinical trials converted to mCODE!\")\n",
    "else:\n",
    "    print(\"❌ Failed to convert trials to mCODE\")\n",
    "    print(\"💡 Check the raw_trials.ndjson file and processing logs\")"
   ]
  },
  {
   "cell_type": "code",
   "execution_count": null,
   "metadata": {},
   "source": [
    "# 👨‍⚕️ Convert Patients to mCODE Format\n",
    "\n",
    "print(\"👨‍⚕️ Converting patient data to mCODE format...\")\n",
    "\n",
    "# Use the CLI to process patients to mCODE\n",
    "mcode_patients_command = \"python -m src.cli.patients_processor --in raw_patients.ndjson --out mcode_patients.ndjson --workers 4 --verbose\"\n",
    "print(f\"🚀 Running: {mcode_patients_command}\")\n",
    "\n",
    "# Execute the command\n",
    "!{mcode_patients_command}\n",
    "\n",
    "# Check results\n",
    "if Path('mcode_patients.ndjson').exists():\n",
    "    print(\"✅ Patient data converted to mCODE!\")\n",
    "else:\n",
    "    print(\"❌ Failed to convert patients to mCODE\")\n",
    "    print(\"💡 Check the raw_patients.ndjson file and processing logs\")"
   ]
  },
  {
   "cell_type": "markdown",
   "metadata": {},
   "source": [
    "## 📝 Generate Summaries\n",
    "\n",
    "Create human-readable summaries of the mCODE data."
   ]
  },
  {
   "cell_type": "code",
   "execution_count": null,
   "metadata": {},
   "source": [
    "# 📝 Generate Trial Summaries\n",
    "\n",
    "print(\"📝 Generating clinical trial summaries...\")\n",
    "\n",
    "# Use the CLI to create summaries and store in CORE Memory\n",
    "summarize_trials_command = \"python -m src.cli.trials_summarizer --in mcode_trials.ndjson --ingest --verbose\"\n",
    "print(f\"🚀 Running: {summarize_trials_command}\")\n",
    "\n",
    "# Execute the command\n",
    "!{summarize_trials_command}\n",
    "\n",
    "print(\"✅ Clinical trial summaries generated and stored in CORE Memory!\")"
   ]
  },
  {
   "cell_type": "code",
   "execution_count": null,
   "metadata": {},
   "source": [
    "# 📝 Generate Patient Summaries\n",
    "\n",
    "print(\"📝 Generating patient summaries...\")\n",
    "\n",
    "# Use the CLI to create summaries and store in CORE Memory\n",
    "summarize_patients_command = \"python -m src.cli.patients_summarizer --in mcode_patients.ndjson --ingest --verbose\"\n",
    "print(f\"🚀 Running: {summarize_patients_command}\")\n",
    "\n",
    "# Execute the command\n",
    "!{summarize_patients_command}\n",
    "\n",
    "print(\"✅ Patient summaries generated and stored in CORE Memory!\")"
   ]
  },
  {
   "cell_type": "markdown",
   "metadata": {},
   "source": [
    "## 🔍 Knowledge Exploration\n",
    "\n",
    "Search and explore the medical knowledge stored in CORE Memory."
   ]
  },
  {
   "cell_type": "code",
   "execution_count": null,
   "metadata": {},
   "source": [
    "# 🔍 Search for Breast Cancer Information\n",
    "\n",
    "print(\"🔍 Searching CORE Memory for breast cancer information...\")\n",
    "\n",
    "# Search across all spaces\n",
    "breast_cancer_results = client.search(\"breast cancer\", limit=10)\n",
    "\n",
    "print(\"🎯 Search Results for 'breast cancer':\")\n",
    "print(f\"   📄 Episodes found: {len(breast_cancer_results.get('episodes', []))}\")\n",
    "print(f\"   🧠 Facts found: {len(breast_cancer_results.get('facts', []))}\")\n",
    "\n",
    "# Show sample episodes\n",
    "episodes = breast_cancer_results.get('episodes', [])[:3]\n",
    "if episodes:\n",
    "    print(\"\\n📖 Sample Episodes:\")\n",
    "    for i, episode in enumerate(episodes, 1):\n",
    "        content = episode.get('content', '')[:100]\n",
    "        print(f\"   {i}. {content}...\")\n",
    "else:\n",
    "    print(\"   No episodes found yet - data may still be processing\")\n",
    "\n",
    "print(\"\\n💡 Tip: Search results may take a few moments to appear as data is processed asynchronously\")"
   ]
  },
  {
   "cell_type": "code",
   "execution_count": null,
   "metadata": {},
   "source": [
    "# 🔍 Search Clinical Trials Space\n",
    "\n",
    "print(\"🔍 Searching clinical trials space specifically...\")\n",
    "\n",
    "# Search within the trials space\n",
    "trials_search = client.search(\"clinical trial\", space_id=trials_space_id, limit=5)\n",
    "\n",
    "print(\"📋 Clinical Trials Space Search Results:\")\n",
    "print(f\"   📄 Episodes: {len(trials_search.get('episodes', []))}\")\n",
    "print(f\"   🧠 Facts: {len(trials_search.get('facts', []))}\")\n",
    "\n",
    "# Show trial-specific content\n",
    "for episode in trials_search.get('episodes', [])[:2]:\n",
    "    content = episode.get('content', '')[:150]\n",
    "    print(f\"   📊 {content}...\")"
   ]
  },
  {
   "cell_type": "code",
   "execution_count": null,
   "metadata": {},
   "source": [
    "# 🔍 Search Patients Space\n",
    "\n",
    "print(\"🔍 Searching patients space...\")\n",
    "\n",
    "# Search within the patients space\n",
    "patients_search = client.search(\"patient\", space_id=patients_space_id, limit=5)\n",
    "\n",
    "print(\"👥 Patients Space Search Results:\")\n",
    "print(f\"   📄 Episodes: {len(patients_search.get('episodes', []))}\")\n",
    "print(f\"   🧠 Facts: {len(patients_search.get('facts', []))}\")\n",
    "\n",
    "# Show patient-specific content\n",
    "for episode in patients_search.get('episodes', [])[:2]:\n",
    "    content = episode.get('content', '')[:150]\n",
    "    print(f\"   👤 {content}...\")"
   ]
  },
  {
   "cell_type": "markdown",
   "metadata": {},
   "source": [
    "## 📊 Results Summary\n",
    "\n",
    "Review what we've accomplished and check our data files."
   ]
  },
  {
   "cell_type": "code",
   "execution_count": null,
   "metadata": {},
   "source": [
    "# 📊 Demo Results Summary\n",
    "\n",
    "print(\"📊 Breast Cancer CORE Memory Demo - Results Summary\")\n",
    "print(\"=\" * 60)\n",
    "\n",
    "# Check generated files\n",
    "files_to_check = [\n",
    "    'raw_trials.ndjson',\n",
    "    'raw_patients.ndjson',\n",
    "    'mcode_trials.ndjson',\n",
    "    'mcode_patients.ndjson'\n",
    "]\n",
    "\n",
    "print(\"📁 Generated Files:\")\n",
    "total_size = 0\n",
    "for filename in files_to_check:\n",
    "    file_path = Path(filename)\n",
    "    if file_path.exists():\n",
    "        size = file_path.stat().st_size\n",
    "        total_size += size\n",
    "        print(f\"   ✅ {filename} ({size} bytes)\")\n",
    "    else:\n",
    "        print(f\"   ❌ {filename} (not found)\")\n",
    "\n",
    "print(f\"\\n💾 Total data processed: {total_size} bytes\")\n",
    "\n",
    "# Show CORE Memory spaces\n",
    "print(\"\\n🧠 CORE Memory Spaces:\")\n",
    "spaces = client.get_spaces()\n",
    "for space in spaces:\n",
    "    space_id = space.get('id')\n",
    "    marker = \"🎯\" if space_id == trials_space_id else \"👤\" if space_id == patients_space_id else \"📁\"\n",
    "    print(f\"   {marker} {space.get('name')}\")\n",
    "\n",
    "# Show search statistics\n",
    "total_episodes = len(breast_cancer_results.get('episodes', []))\n",
    "total_facts = len(breast_cancer_results.get('facts', []))\n",
    "\n",
    "print(f\"\\n🔍 Knowledge Base Status:\")\n",
    "print(f\"   📄 Medical Episodes: {total_episodes}\")\n",
    "print(f\"   🧠 Medical Facts: {total_facts}\")\n",
    "print(f\"   🎯 Total Knowledge Items: {total_episodes + total_facts}\")\n",
    "\n",
    "print(\"\\n🎉 Demo completed successfully!\")\n",
    "print(\"🏆 Breast cancer data is now stored and searchable in CORE Memory!\")"
   ]
  },
  {
   "cell_type": "markdown",
   "metadata": {},
   "source": [
    "## 🎯 Next Steps\n",
    "\n",
    "Your breast cancer knowledge base is now ready! Here are some things you can do:\n",
    "\n",
    "- 🔍 **Search**: Use different queries to explore the medical knowledge\n",
    "- 📊 **Analyze**: Look at treatment patterns and patient outcomes\n",
    "- 🔬 **Research**: Compare clinical trials and eligibility criteria\n",
    "- 🤖 **AI Integration**: Use the stored knowledge for clinical decision support\n",
    "- 📈 **Scale Up**: Process more trials and patients for comprehensive analysis\n",
    "\n",
    "## 🏆 Achievements\n",
    "\n",
    "✅ Downloaded real clinical trial data  \n",
    "✅ Fetched realistic synthetic patient data  \n",
    "✅ Converted to standardized mCODE format  \n",
    "✅ Generated human-readable summaries  \n",
    "✅ Stored everything in CORE Memory  \n",
    "✅ Created searchable medical knowledge base  \n",
    "\n",
    "**You're now ready to explore oncology data with AI! 🚀**"
   ]
  }
 ],
 "metadata": {
  "kernelspec": {
   "display_name": "Python 3",
   "language": "python",
   "name": "python3"
  },
  "language_info": {
   "codemirror_mode": {
    "name": "ipython",
    "version": 3
   },
   "file_extension": ".py",
   "mimetype": "text/x-python",
   "name": "python",
   "nbconvert_exporter": "python",
   "pygments_lexer": "ipython3",
   "version": "3.8.5"
  }
 },
 "nbformat": 4,
 "nbformat_minor": 4
}