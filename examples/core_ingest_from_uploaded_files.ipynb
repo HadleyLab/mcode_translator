{
 "cells": [
  {
   "cell_type": "markdown",
   "id": "369bb7db",
   "metadata": {},
   "source": [
    "\n",
    "# mCODE CORE Ingestion - Patient Translator\n",
    "\n",
    "This notebook ingests **mCODE-compliant oncology data** into CORE Memory spaces…\n",
    "\n",
    "- **mCODE Patients**: Patient clinical data following mCODE standards\n",
    "- **mCODE Research Protocols**: Clinical trial protocols with mCODE-aligned eligibility criteria\n",
    "\n",
    "…then:\n",
    "\n",
    "1. Creates **mCODE-aligned CORE spaces** (auto-detects existing or creates new)\n",
    "2. Seeds **comprehensive mCODE ontology** for optimal clinical feature matching\n",
    "3. Ingests **mCODE patients directly** (structured data for optimal clinical feature matching)\n",
    "4. Ingests **mCODE research protocols directly** (structured trial data with eligibility mappings)\n",
    "5. Performs **cross-space semantic searches** for clinical matching\n",
    "\n",
    "> Uses environment variables for CORE API access. Spaces auto-created if missing.\n"
   ]
  },
  {
   "cell_type": "code",
   "execution_count": 12,
   "id": "441689ff",
   "metadata": {},
   "outputs": [],
   "source": [
    "# =============================================================================\n",
    "# ALL NON-INTERACTIVE CODE - Setup, Imports, and Helper Functions\n",
    "# =============================================================================\n",
    "\n",
    "import os, json, uuid, datetime, typing, textwrap, base64, decimal\n",
    "import dotenv\n",
    "import ijson\n",
    "from typing import Any, Dict, List, Optional\n",
    "from src.utils.core_memory_client import CoreMemoryClient, CoreMemoryError\n",
    "\n",
    "# --- Configuration ---\n",
    "dotenv.load_dotenv()\n",
    "CORE_API_KEY = os.getenv(\"COREAI_API_KEY\")\n",
    "CORE_URL = \"https://core.heysol.ai/api/v1/mcp\"\n",
    "SPACE_ID = None  # paste an existing space id to reuse, else leave as None to create a new Space\n",
    "\n",
    "# Behavior\n",
    "ATTACH_SOURCE_JSON = True\n",
    "VERBOSE = True\n",
    "TIMEOUT = 60\n",
    "\n",
    "# =============================================================================\n",
    "# HELPER FUNCTIONS\n",
    "# =============================================================================\n",
    "\n",
    "def safe(val, default=\"\"): return val if val is not None else default\n",
    "\n",
    "def decimal_converter(obj):\n",
    "    \"\"\"Convert Decimal objects to floats for JSON serialization.\"\"\"\n",
    "    if isinstance(obj, decimal.Decimal):\n",
    "        return float(obj)\n",
    "    raise TypeError(f\"Object of type {obj.__class__.__name__} is not JSON serializable\")\n",
    "\n",
    "def ingest_patients_from_path(client: CoreMemoryClient, space_id: str, path: str):\n",
    "    \"\"\"Ingest mCODE patient data directly without summarization.\"\"\"\n",
    "    count = 0\n",
    "    with open(path, 'rb') as fh:\n",
    "        # Use ijson to parse the JSON stream from the root of the array\n",
    "        for patient_mcode in ijson.items(fh, 'item'):\n",
    "            # Ingest the mCODE data structure directly for optimal clinical feature matching\n",
    "            client.ingest(json.dumps(patient_mcode, default=decimal_converter), space_id=space_id)\n",
    "            count += 1\n",
    "    return f\"Ingested {count} mCODE patient records directly.\"\n",
    "\n",
    "def ingest_trials_from_path(client: CoreMemoryClient, space_id: str, path: str):\n",
    "    \"\"\"Ingest mCODE trial data directly without summarization.\"\"\"\n",
    "    with open(path, \"r\") as fh:\n",
    "        data = json.load(fh)\n",
    "    # Case A: simple list of our trial dicts\n",
    "    if isinstance(data, list) and all(isinstance(x, dict) for x in data) and any(\"id\" in x or \"title\" in x for x in data):\n",
    "        for trial_mcode in data:\n",
    "            # Ingest the mCODE trial data structure directly\n",
    "            client.ingest(json.dumps(trial_mcode), space_id=space_id)\n",
    "        return f\"Ingested {len(data)} mCODE trial records directly.\"\n",
    "    # Case B: CT.gov wrapper with our mCODE translations\n",
    "    if isinstance(data, dict) and \"successful_trials\" in data:\n",
    "        trials = data.get(\"successful_trials\", [])\n",
    "        for trial_mcode in trials:\n",
    "            # Ingest the mCODE trial data structure directly (contains our translations)\n",
    "            client.ingest(json.dumps(trial_mcode), space_id=space_id)\n",
    "        return f\"Ingested {len(trials)} mCODE trial records directly.\"\n",
    "    raise ValueError(\"Unsupported trials JSON shape.\")"
   ]
  },
  {
   "cell_type": "code",
   "execution_count": 13,
   "id": "f451a6af",
   "metadata": {},
   "outputs": [],
   "source": [
    "# =============================================================================\n",
    "# ONTOLOGY DEFINITION\n",
    "# =============================================================================\n",
    "\n",
    "ONTOLOGY_MD = '''# Ontology: mCODE Core Concepts (STU4-inspired)\n",
    "\n",
    "- EntityType: Person attrs={internalId, birthDate}\n",
    "- EntityType: CancerDiagnosis attrs={id, site, histologyMorphologyBehavior, onsetDateTime} codedAs SNOMED|ICD-O-3\n",
    "- EntityType: CancerStage attrs={system, version, overallStage, date} codedAs NCIt\n",
    "- EntityType: BiomarkerResult attrs={analyte, method, value, unit, interpretation} codedAs LOINC\n",
    "- EntityType: GenomicVariant attrs={gene, hgvs, zygosity, consequence} codedAs NCIt\n",
    "- EntityType: TreatmentEvent attrs={type, agent, dose, unit, route, startDate, endDate}\n",
    "- EntityType: Regimen attrs={name, components}\n",
    "- EntityType: DiseaseStatus attrs={status, date} codedAs NCIt\n",
    "- EntityType: Specimen attrs={id, collectionDate, site}\n",
    "- EntityType: Encounter attrs={id, date, type}\n",
    "- EntityType: Organization attrs={id, name}\n",
    "- EntityType: Practitioner attrs={id, name}\n",
    "\n",
    "- Predicate: hasDiagnosis domain=Person range=CancerDiagnosis\n",
    "- Predicate: stagedAs domain=CancerDiagnosis range=CancerStage\n",
    "- Predicate: hasTNM_T domain=CancerStage range=Code(T)\n",
    "- Predicate: hasTNM_N domain=CancerStage range=Code(N)\n",
    "- Predicate: hasTNM_M domain=CancerStage range=Code(M)\n",
    "- Predicate: hasBiomarker domain=Person range=BiomarkerResult\n",
    "- Predicate: hasVariant domain=Person range=GenomicVariant\n",
    "- Predicate: receivedTreatment domain=Person range=TreatmentEvent\n",
    "- Predicate: partOfRegimen domain=TreatmentEvent range=Regimen\n",
    "- Predicate: hasDiseaseStatus domain=Person range=DiseaseStatus\n",
    "- Predicate: codedAs domain=Any range=Code(system,code,display)\n",
    "- Predicate: recordedAt domain=Any range=DateTime\n",
    "- Predicate: performedBy domain=TreatmentEvent range=Practitioner\n",
    "'''"
   ]
  },
  {
   "cell_type": "code",
   "execution_count": 7,
   "id": "0c4d7043",
   "metadata": {},
   "outputs": [
    {
     "name": "stdout",
     "output_type": "stream",
     "text": [
      "2025-09-16 13:53:43,602 - TrialsFetcherWorkflow - INFO - 🔍 Searching for trials: 'breast cancer' (limit: 2)\u001b[0m\n",
      "2025-09-16 13:53:43,602 - src.utils.api_manager - INFO - Cache HIT with key 0bd74d31... in namespace 'clinical_trials'\u001b[0m\n",
      "2025-09-16 13:53:43,602 - src.pipeline.fetcher - INFO - Cache HIT for search_trials\u001b[0m\n",
      "2025-09-16 13:53:43,602 - TrialsFetcherWorkflow - INFO - 📋 Found 2 trials\u001b[0m\n",
      "2025-09-16 13:53:43,603 - TrialsFetcherWorkflow - INFO - 💾 Results saved to: data/my_trials.json\u001b[0m\n",
      "✅ Trials fetch completed successfully!\n",
      "📊 Total trials fetched: 2\n",
      "💾 Results saved to: data/my_trials.json\n",
      "🔍 Fetch type: condition_search\n",
      "2025-09-16 13:53:44,919 - __main__ - INFO - 🔬 Processing 2 trials...\u001b[0m\n",
      "2025-09-16 13:53:44,919 - __main__ - INFO - Initializing trials processor workflow...\u001b[0m\n",
      "2025-09-16 13:53:44,920 - src.utils.api_manager - INFO - APIManager initialized with config TTL: 0 seconds\u001b[0m\n",
      "2025-09-16 13:53:44,920 - src.utils.api_manager - INFO - Initialized API cache for namespace 'trials_processor' at .api_cache/trials_processor with TTL 0\u001b[0m\n",
      "2025-09-16 13:53:44,921 - src.utils.api_manager - INFO - Initialized API cache for namespace 'mcode_extraction' at .api_cache/mcode_extraction with TTL 0\u001b[0m\n",
      "2025-09-16 13:53:44,921 - src.utils.api_manager - INFO - Initialized API cache for namespace 'trial_summaries' at .api_cache/trial_summaries with TTL 0\u001b[0m\n",
      "2025-09-16 13:53:44,921 - __main__ - INFO - Executing trials processor workflow...\u001b[0m\n",
      "2025-09-16 13:53:44,921 - TrialsProcessorWorkflow - INFO - Starting trials processor workflow execution\u001b[0m\n",
      "2025-09-16 13:53:44,921 - TrialsProcessorWorkflow - INFO - Extracted parameters: trials_data=2, model=deepseek-coder, prompt=direct_mcode_evidence_based_concise, store_in_memory=False\u001b[0m\n",
      "2025-09-16 13:53:44,921 - TrialsProcessorWorkflow - INFO - Initializing McodePipeline...\u001b[0m\n",
      "2025-09-16 13:53:44,921 - TrialsProcessorWorkflow - INFO - Creating McodePipeline with prompt_name=direct_mcode_evidence_based_concise, model_name=deepseek-coder\u001b[0m\n",
      "2025-09-16 13:53:45,505 - httpx - INFO - HTTP Request: GET https://api.deepseek.com/models \"HTTP/1.1 200 OK\"\u001b[0m\n",
      "2025-09-16 13:53:45,509 - src.utils.api_manager - INFO - APIManager initialized with config TTL: 0 seconds\u001b[0m\n",
      "2025-09-16 13:53:45,509 - src.utils.api_manager - INFO - Initialized API cache for namespace 'llm' at .api_cache/llm with TTL 0\u001b[0m\n",
      "2025-09-16 13:53:45,509 - McodeMapper - INFO - ✅ Strict LLM Base initialized successfully with model: deepseek-coder\u001b[0m\n",
      "2025-09-16 13:53:45,510 - TrialsProcessorWorkflow - INFO - McodePipeline initialized successfully\u001b[0m\n",
      "2025-09-16 13:53:45,511 - TrialsProcessorWorkflow - INFO - 🔬 Processing 2 trials with mCODE pipeline\u001b[0m\n",
      "2025-09-16 13:53:45,511 - TrialsProcessorWorkflow - INFO - 📝 Using sequential processing\u001b[0m\n",
      "2025-09-16 13:53:45,511 - TrialsProcessorWorkflow - INFO - 🔬 Processing trial 1/2\u001b[0m\n",
      "2025-09-16 13:53:45,511 - McodePipeline - INFO - 🚀 Starting mCODE pipeline processing\u001b[0m\n",
      "2025-09-16 13:53:45,511 - McodePipeline - INFO -    📄 Trial ID: NCT03301350\u001b[0m\n",
      "2025-09-16 13:53:45,511 - McodePipeline - INFO -    📋 Title: Neoadjuvant Carbo/Paclitaxel Followed by Doxorubicin/Cyclophosphamide in Breast Cancer\u001b[0m\n",
      "2025-09-16 13:53:45,511 - DocumentIngestor - DEBUG - Trial data keys: ['protocolSection']\u001b[0m\n",
      "2025-09-16 13:53:45,511 - DocumentIngestor - DEBUG - Protocol section keys: ['identificationModule', 'statusModule', 'descriptionModule', 'conditionsModule']\u001b[0m\n",
      "2025-09-16 13:53:45,511 - DocumentIngestor - DEBUG - Processing module designModule: False\u001b[0m\n",
      "2025-09-16 13:53:45,511 - DocumentIngestor - DEBUG - Processing module conditionsModule: True\u001b[0m\n",
      "2025-09-16 13:53:45,511 - DocumentIngestor - DEBUG - Section content length for conditionsModule: 56\u001b[0m\n",
      "2025-09-16 13:53:45,512 - DocumentIngestor - DEBUG - Processing module eligibilityModule: False\u001b[0m\n",
      "2025-09-16 13:53:45,512 - DocumentIngestor - DEBUG - Processing module descriptionModule: True\u001b[0m\n",
      "2025-09-16 13:53:45,512 - DocumentIngestor - DEBUG - Section content length for descriptionModule: 269\u001b[0m\n",
      "2025-09-16 13:53:45,512 - DocumentIngestor - DEBUG - Processing module identificationModule: True\u001b[0m\n",
      "2025-09-16 13:53:45,512 - DocumentIngestor - DEBUG - Section content length for identificationModule: 118\u001b[0m\n",
      "2025-09-16 13:53:45,512 - src.utils.api_manager - INFO - Cache HIT with key 4abecdee... in namespace 'llm'\u001b[0m\n",
      "2025-09-16 13:53:45,513 - McodeMapper - INFO - ✅ LLM API call CACHED for deepseek-coder\u001b[0m\n",
      "2025-09-16 13:53:45,513 - src.utils.api_manager - INFO - Cache HIT with key 5bf0462c... in namespace 'llm'\u001b[0m\n",
      "2025-09-16 13:53:45,513 - McodeMapper - INFO - ✅ LLM API call CACHED for deepseek-coder\u001b[0m\n",
      "2025-09-16 13:53:45,513 - src.utils.api_manager - INFO - Cache HIT with key a80ee609... in namespace 'llm'\u001b[0m\n",
      "2025-09-16 13:53:45,514 - McodeMapper - INFO - ✅ LLM API call CACHED for deepseek-coder\u001b[0m\n",
      "2025-09-16 13:53:45,517 - src.utils.api_manager - INFO - Cache STORED with key 0279fe74... in namespace 'trials_processor'\u001b[0m\n",
      "2025-09-16 13:53:45,517 - TrialsProcessorWorkflow - ERROR - Error extracting comprehensive trial mCODE elements: 'str' object has no attribute 'get'\u001b[0m\n",
      "2025-09-16 13:53:45,518 - src.utils.api_manager - INFO - Cache STORED with key 75919d8b... in namespace 'mcode_extraction'\u001b[0m\n",
      "2025-09-16 13:53:45,518 - TrialsProcessorWorkflow - INFO - Generated comprehensive trial summary for NCT03301350: NCT03301350 is a clinical trial (mCODE: Trial) entitled 'Neoadjuvant Carbo/Paclitaxel Followed by Doxorubicin/Cyclophosphamide in Breast Cancer'. Trial study type (mCODE: TrialStudyType) is interventi...\u001b[0m\n",
      "2025-09-16 13:53:45,518 - src.utils.api_manager - INFO - Cache STORED with key 5a500aba... in namespace 'trial_summaries'\u001b[0m\n",
      "2025-09-16 13:53:45,519 - TrialsProcessorWorkflow - INFO - Generated comprehensive trial summary for NCT03301350: NCT03301350 is a clinical trial (mCODE: Trial) entitled 'Neoadjuvant Carbo/Paclitaxel Followed by Do...\u001b[0m\n",
      "2025-09-16 13:53:45,519 - TrialsProcessorWorkflow - INFO - 🔬 Processing trial 2/2\u001b[0m\n",
      "2025-09-16 13:53:45,519 - McodePipeline - INFO - 🚀 Starting mCODE pipeline processing\u001b[0m\n",
      "2025-09-16 13:53:45,519 - McodePipeline - INFO -    📄 Trial ID: NCT01367418\u001b[0m\n",
      "2025-09-16 13:53:45,519 - McodePipeline - INFO -    📋 Title: Effects of Anesthetic Technique on Immune and Inflammatory Systems Following Radical Prostatectomy\u001b[0m\n",
      "2025-09-16 13:53:45,519 - DocumentIngestor - DEBUG - Trial data keys: ['protocolSection']\u001b[0m\n",
      "2025-09-16 13:53:45,519 - DocumentIngestor - DEBUG - Protocol section keys: ['identificationModule', 'statusModule', 'descriptionModule', 'conditionsModule']\u001b[0m\n",
      "2025-09-16 13:53:45,520 - DocumentIngestor - DEBUG - Processing module designModule: False\u001b[0m\n",
      "2025-09-16 13:53:45,520 - DocumentIngestor - DEBUG - Processing module conditionsModule: True\u001b[0m\n",
      "2025-09-16 13:53:45,520 - DocumentIngestor - DEBUG - Section content length for conditionsModule: 27\u001b[0m\n",
      "2025-09-16 13:53:45,520 - DocumentIngestor - DEBUG - Processing module eligibilityModule: False\u001b[0m\n",
      "2025-09-16 13:53:45,520 - DocumentIngestor - DEBUG - Processing module descriptionModule: True\u001b[0m\n",
      "2025-09-16 13:53:45,520 - DocumentIngestor - DEBUG - Section content length for descriptionModule: 880\u001b[0m\n",
      "2025-09-16 13:53:45,520 - DocumentIngestor - DEBUG - Processing module identificationModule: True\u001b[0m\n",
      "2025-09-16 13:53:45,520 - DocumentIngestor - DEBUG - Section content length for identificationModule: 130\u001b[0m\n",
      "2025-09-16 13:53:45,521 - src.utils.api_manager - INFO - Cache HIT with key 5bba4e1c... in namespace 'llm'\u001b[0m\n",
      "2025-09-16 13:53:45,521 - McodeMapper - INFO - ✅ LLM API call CACHED for deepseek-coder\u001b[0m\n",
      "2025-09-16 13:53:45,521 - src.utils.api_manager - INFO - Cache HIT with key 03697328... in namespace 'llm'\u001b[0m\n",
      "2025-09-16 13:53:45,521 - McodeMapper - INFO - ✅ LLM API call CACHED for deepseek-coder\u001b[0m\n",
      "2025-09-16 13:53:45,522 - src.utils.api_manager - INFO - Cache HIT with key 8d5d4be2... in namespace 'llm'\u001b[0m\n",
      "2025-09-16 13:53:45,522 - McodeMapper - INFO - ✅ LLM API call CACHED for deepseek-coder\u001b[0m\n",
      "2025-09-16 13:53:45,523 - src.utils.api_manager - INFO - Cache STORED with key c92f6dd0... in namespace 'trials_processor'\u001b[0m\n",
      "2025-09-16 13:53:45,523 - TrialsProcessorWorkflow - ERROR - Error extracting comprehensive trial mCODE elements: 'str' object has no attribute 'get'\u001b[0m\n",
      "2025-09-16 13:53:45,523 - src.utils.api_manager - INFO - Cache STORED with key 4b975478... in namespace 'mcode_extraction'\u001b[0m\n",
      "2025-09-16 13:53:45,523 - TrialsProcessorWorkflow - INFO - Generated comprehensive trial summary for NCT01367418: NCT01367418 is a clinical trial (mCODE: Trial) entitled 'Effects of Anesthetic Technique on Immune and Inflammatory Systems Following Radical Prostatectomy'. Trial study type (mCODE: TrialStudyType) i...\u001b[0m\n",
      "2025-09-16 13:53:45,524 - src.utils.api_manager - INFO - Cache STORED with key f45127c9... in namespace 'trial_summaries'\u001b[0m\n",
      "2025-09-16 13:53:45,524 - TrialsProcessorWorkflow - INFO - Generated comprehensive trial summary for NCT01367418: NCT01367418 is a clinical trial (mCODE: Trial) entitled 'Effects of Anesthetic Technique on Immune a...\u001b[0m\n",
      "2025-09-16 13:53:45,524 - TrialsProcessorWorkflow - INFO - 📊 Processing complete: 2/2 trials successful\u001b[0m\n",
      "2025-09-16 13:53:45,524 - TrialsProcessorWorkflow - INFO - ✅ Trials processing completed successfully!\u001b[0m\n",
      "2025-09-16 13:53:45,524 - __main__ - INFO - Trials processor workflow execution completed\u001b[0m\n",
      "2025-09-16 13:53:45,524 - __main__ - INFO - ✅ Trials processing completed successfully!\u001b[0m\n",
      "2025-09-16 13:53:45,525 - __main__ - ERROR - Failed to save processed data: Object of type McodeElement is not JSON serializable\u001b[0m\n",
      "2025-09-16 13:53:45,525 - __main__ - INFO - 💾 Processed data saved as string to: data/my_trials_mcode.json\u001b[0m\n",
      "2025-09-16 13:53:45,525 - __main__ - INFO - 📊 Total trials: 2\u001b[0m\n",
      "2025-09-16 13:53:45,526 - __main__ - INFO - ✅ Successful: 2\u001b[0m\n",
      "2025-09-16 13:53:45,526 - __main__ - INFO - ❌ Failed: 0\u001b[0m\n",
      "2025-09-16 13:53:45,526 - __main__ - INFO - 📈 Success rate: 1.0%\u001b[0m\n",
      "2025-09-16 13:53:45,526 - __main__ - INFO - 🤖 Model: deepseek-coder\u001b[0m\n",
      "2025-09-16 13:53:45,526 - __main__ - INFO - 📝 Prompt: direct_mcode_evidence_based_concise\u001b[0m\n"
     ]
    }
   ],
   "source": [
    "!python -m src.cli.trials_fetcher --condition \"breast cancer\" --limit 2 --output data/my_trials.json\n",
    "!python -m src.cli.trials_processor data/my_trials.json --output data/my_trials_mcode.json --dry-run\n",
    "TRIALS_PATH   = \"data/my_trials_mcode.json\"\n"
   ]
  },
  {
   "cell_type": "code",
   "execution_count": 8,
   "id": "37ec147c",
   "metadata": {},
   "outputs": [
    {
     "name": "stdout",
     "output_type": "stream",
     "text": [
      "2025-09-16 13:53:46,390 - PatientsFetcherWorkflow - INFO - 📥 Fetching up to 2 patients from breast_cancer_10_years\u001b[0m\n",
      "2025-09-16 13:53:46,390 - src.utils.patient_generator - INFO - Resolved named archive 'breast_cancer_10_years' to: data/synthetic_patients/breast_cancer/10_years/breast_cancer_10_years.zip\u001b[0m\n",
      "2025-09-16 13:53:46,390 - src.utils.patient_generator - INFO - Scanning patient data archive: data/synthetic_patients/breast_cancer/10_years/breast_cancer_10_years.zip\u001b[0m\n",
      "2025-09-16 13:53:46,406 - src.utils.patient_generator - INFO - Found 1115 patient data files\u001b[0m\n",
      "2025-09-16 13:53:46,485 - PatientsFetcherWorkflow - INFO - ✅ Successfully fetched 2 patients\u001b[0m\n",
      "2025-09-16 13:53:46,631 - PatientsFetcherWorkflow - INFO - 💾 Patient data saved to: data/my_patients.json\u001b[0m\n",
      "✅ Patients fetch completed successfully!\n",
      "📊 Total patients fetched: 2\n",
      "💾 Results saved to: data/my_patients.json\n",
      "🔍 Fetch type: multiple_patients\n",
      "📁 Archive: breast_cancer_10_years\n",
      "🔬 Processing 2 patient records...\n",
      "Patient 1: 289 entries\n",
      "  Entry 0: type=<class 'dict'>\n",
      "    Resource: type=<class 'dict'>\n",
      "    ResourceType: Patient\n",
      "    Patient 1 name: [{'use': 'official', 'family': 'Reichert620', 'given': ['Katherine209']}]\n",
      "  Entry 1: type=<class 'dict'>\n",
      "    Resource: type=<class 'dict'>\n",
      "    ResourceType: Encounter\n",
      "  Entry 2: type=<class 'dict'>\n",
      "    Resource: type=<class 'dict'>\n",
      "    ResourceType: Observation\n",
      "Patient 2: 790 entries\n",
      "  Entry 0: type=<class 'dict'>\n",
      "    Resource: type=<class 'dict'>\n",
      "    ResourceType: Patient\n",
      "    Patient 2 name: [{'use': 'official', 'family': 'Conn188', 'given': ['Madalene903'], 'prefix': ['Ms.']}]\n",
      "  Entry 1: type=<class 'dict'>\n",
      "    Resource: type=<class 'dict'>\n",
      "    ResourceType: Encounter\n",
      "  Entry 2: type=<class 'dict'>\n",
      "    Resource: type=<class 'dict'>\n",
      "    ResourceType: Condition\n",
      "2025-09-16 13:53:47,491 - PatientsProcessorWorkflow - INFO - 🔬 Processing 2 patients with mCODE mapping\u001b[0m\n",
      "2025-09-16 13:53:47,491 - PatientsProcessorWorkflow - INFO - Processing patient 1/2\u001b[0m\n",
      "2025-09-16 13:53:47,492 - PatientsProcessorWorkflow - INFO - Processing patient 2/2\u001b[0m\n",
      "2025-09-16 13:53:47,496 - PatientsProcessorWorkflow - INFO - 📊 Processing complete: 2/2 patients successful\u001b[0m\n",
      "✅ Patients processing completed successfully!\n",
      "💾 Processed mCODE data saved to: data/my_patients_mcode.json\n",
      "📊 Total patients: 2\n",
      "✅ Successful: 2\n",
      "❌ Failed: 0\n",
      "📈 Success rate: 1.0%\n"
     ]
    }
   ],
   "source": [
    "\n",
    "!python -m src.cli.patients_fetcher --archive breast_cancer_10_years --limit 2 --output data/my_patients.json\n",
    "!python -m src.cli.patients_processor --patients data/my_patients.json --output data/my_patients_mcode.json --dry-run\n",
    "PATIENTS_PATH = \"data/my_patients_mcode.json\""
   ]
  },
  {
   "cell_type": "markdown",
   "id": "init-client",
   "metadata": {},
   "source": [
    "# 🚀 STEP 1: Initialize CORE Memory Client\n",
    "\n",
    "**What happens here:**\n",
    "- Creates a secure connection to CORE Memory using your API key\n",
    "- Initializes the MCP (Model Context Protocol) session\n",
    "- Sets up the client for ingesting mCODE data\n",
    "\n",
    "**Why this matters:**\n",
    "- Ensures secure, authenticated access to CORE Memory\n",
    "- Prepares the connection for high-volume mCODE data ingestion"
   ]
  },
  {
   "cell_type": "code",
   "execution_count": 15,
   "id": "init-core-client",
   "metadata": {},
   "outputs": [
    {
     "name": "stdout",
     "output_type": "stream",
     "text": [
      "✅ CORE Memory client initialized successfully\n",
      "🔗 Connected to: https://core.heysol.ai/api/v1/mcp\n"
     ]
    }
   ],
   "source": [
    "# Initialize CORE Memory Client\n",
    "try:\n",
    "    client = CoreMemoryClient(api_key=CORE_API_KEY, base_url=CORE_URL)\n",
    "    print(\"✅ CORE Memory client initialized successfully\")\n",
    "    print(f\"🔗 Connected to: {CORE_URL}\")\n",
    "except CoreMemoryError as e:\n",
    "    print(f\"❌ Failed to initialize CORE client: {e}\")\n",
    "    raise"
   ]
  },
  {
   "cell_type": "markdown",
   "id": "create-spaces",
   "metadata": {},
   "source": [
    "# 🏗️ STEP 2: Create mCODE-Aligned Spaces\n",
    "\n",
    "**What happens here:**\n",
    "- Checks for existing \"mCODE Patients\" and \"mCODE Research Protocols\" spaces\n",
    "- Creates them automatically if they don't exist\n",
    "- Returns the space IDs for data ingestion\n",
    "\n",
    "**Why this matters:**\n",
    "- Organizes data by clinical purpose (patients vs research protocols)\n",
    "- Enables separate indexing and searching of patient data vs trial data\n",
    "- mCODE alignment ensures consistent clinical terminology across spaces"
   ]
  },
  {
   "cell_type": "code",
   "execution_count": 16,
   "id": "setup-spaces",
   "metadata": {},
   "outputs": [
    {
     "name": "stdout",
     "output_type": "stream",
     "text": [
      "🏥 mCODE Patients Space ID: cmfm0gb9p010rqf1vcfpcxcti\n",
      "🧬 mCODE Research Protocols Space ID: cmfm0gblw010tqf1v2ang7w4h\n",
      "✅ Spaces ready for mCODE data ingestion\n"
     ]
    }
   ],
   "source": [
    "# Get or create mCODE-aligned space IDs\n",
    "try:\n",
    "    patients_space_id = client.get_patients_space_id()\n",
    "    trials_space_id = client.get_clinical_trials_space_id()\n",
    "    \n",
    "    print(f\"🏥 mCODE Patients Space ID: {patients_space_id}\")\n",
    "    print(f\"🧬 mCODE Research Protocols Space ID: {trials_space_id}\")\n",
    "    print(\"✅ Spaces ready for mCODE data ingestion\")\n",
    "    \n",
    "except CoreMemoryError as e:\n",
    "    print(f\"❌ Failed to setup spaces: {e}\")\n",
    "    raise"
   ]
  },
  {
   "cell_type": "markdown",
   "id": "seed-ontology",
   "metadata": {},
   "source": [
    "# 📚 STEP 3: Seed mCODE Ontology\n",
    "\n",
    "**What happens here:**\n",
    "- Ingests the comprehensive mCODE ontology into both spaces\n",
    "- Defines all entity types (Person, CancerDiagnosis, etc.) and relationships\n",
    "- Establishes the knowledge graph structure for clinical data\n",
    "\n",
    "**Why this matters:**\n",
    "- Provides the semantic foundation for understanding clinical relationships\n",
    "- Enables intelligent matching between patients and clinical trials\n",
    "- Standardizes clinical terminology across all ingested data"
   ]
  },
  {
   "cell_type": "code",
   "execution_count": 17,
   "id": "ontology-seed",
   "metadata": {},
   "outputs": [
    {
     "name": "stdout",
     "output_type": "stream",
     "text": [
      "📚 mCODE ontology seeded in both spaces\n",
      "🔗 Knowledge graph structure established\n",
      "✅ Ready for clinical data ingestion\n"
     ]
    }
   ],
   "source": [
    "# Seed mCODE ontology in both spaces\n",
    "try:\n",
    "    client.ingest(ONTOLOGY_MD, space_id=patients_space_id)\n",
    "    client.ingest(ONTOLOGY_MD, space_id=trials_space_id)\n",
    "    \n",
    "    print(\"📚 mCODE ontology seeded in both spaces\")\n",
    "    print(\"🔗 Knowledge graph structure established\")\n",
    "    print(\"✅ Ready for clinical data ingestion\")\n",
    "    \n",
    "except CoreMemoryError as e:\n",
    "    print(f\"❌ Failed to seed ontology: {e}\")\n",
    "    raise"
   ]
  },
  {
   "cell_type": "markdown",
   "id": "ingest-patients",
   "metadata": {},
   "source": [
    "# 🏥 STEP 4: Ingest mCODE Patient Data\n",
    "\n",
    "**What happens here:**\n",
    "- Reads patient data from `data/breast_cancer_patients_demo.json`\n",
    "- Ingests each patient's mCODE data structure directly (no summarization)\n",
    "- Preserves all clinical codes, relationships, and structured data\n",
    "\n",
    "**Why this matters:**\n",
    "- Direct ingestion maintains full clinical fidelity\n",
    "- Structured mCODE data enables precise clinical matching\n",
    "- Preserves coded values for intelligent trial matching"
   ]
  },
  {
   "cell_type": "code",
   "execution_count": 18,
   "id": "patients-ingest",
   "metadata": {},
   "outputs": [
    {
     "name": "stdout",
     "output_type": "stream",
     "text": [
      "✅ Ingested 2 mCODE patient records directly.\n",
      "📊 Patient data queued for processing\n"
     ]
    }
   ],
   "source": [
    "# Ingest mCODE patient data directly\n",
    "try:\n",
    "    result = ingest_patients_from_path(client, patients_space_id, PATIENTS_PATH)\n",
    "    print(f\"✅ {result}\")\n",
    "    print(\"📊 Patient data queued for processing\")\n",
    "    \n",
    "except Exception as e:\n",
    "    print(f\"❌ Failed to ingest patient data: {e}\")\n",
    "    raise"
   ]
  },
  {
   "cell_type": "markdown",
   "id": "ingest-trials",
   "metadata": {},
   "source": [
    "# 🧬 STEP 5: Ingest mCODE Research Protocols\n",
    "\n",
    "**What happens here:**\n",
    "- Reads trial data from `data/breast_cancer_trials_demo.json`\n",
    "- Ingests each trial's mCODE data structure directly\n",
    "- Preserves eligibility criteria, treatment protocols, and clinical codes\n",
    "\n",
    "**Why this matters:**\n",
    "- Maintains structured eligibility criteria for patient matching\n",
    "- Preserves clinical trial protocols in mCODE format\n",
    "- Enables semantic matching between patient data and trial requirements"
   ]
  },
  {
   "cell_type": "code",
   "execution_count": 19,
   "id": "trials-ingest",
   "metadata": {},
   "outputs": [
    {
     "name": "stdout",
     "output_type": "stream",
     "text": [
      "❌ Failed to ingest trial data: Unsupported trials JSON shape.\n"
     ]
    },
    {
     "ename": "ValueError",
     "evalue": "Unsupported trials JSON shape.",
     "output_type": "error",
     "traceback": [
      "\u001b[0;31m---------------------------------------------------------------------------\u001b[0m",
      "\u001b[0;31mValueError\u001b[0m                                Traceback (most recent call last)",
      "Cell \u001b[0;32mIn[19], line 3\u001b[0m\n\u001b[1;32m      1\u001b[0m \u001b[38;5;66;03m# Ingest mCODE trial data directly\u001b[39;00m\n\u001b[1;32m      2\u001b[0m \u001b[38;5;28;01mtry\u001b[39;00m:\n\u001b[0;32m----> 3\u001b[0m     result \u001b[38;5;241m=\u001b[39m \u001b[43mingest_trials_from_path\u001b[49m\u001b[43m(\u001b[49m\u001b[43mclient\u001b[49m\u001b[43m,\u001b[49m\u001b[43m \u001b[49m\u001b[43mtrials_space_id\u001b[49m\u001b[43m,\u001b[49m\u001b[43m \u001b[49m\u001b[43mTRIALS_PATH\u001b[49m\u001b[43m)\u001b[49m\n\u001b[1;32m      4\u001b[0m     \u001b[38;5;28mprint\u001b[39m(\u001b[38;5;124mf\u001b[39m\u001b[38;5;124m\"\u001b[39m\u001b[38;5;124m✅ \u001b[39m\u001b[38;5;132;01m{\u001b[39;00mresult\u001b[38;5;132;01m}\u001b[39;00m\u001b[38;5;124m\"\u001b[39m)\n\u001b[1;32m      5\u001b[0m     \u001b[38;5;28mprint\u001b[39m(\u001b[38;5;124m\"\u001b[39m\u001b[38;5;124m📊 Trial data queued for processing\u001b[39m\u001b[38;5;124m\"\u001b[39m)\n",
      "Cell \u001b[0;32mIn[12], line 62\u001b[0m, in \u001b[0;36mingest_trials_from_path\u001b[0;34m(client, space_id, path)\u001b[0m\n\u001b[1;32m     60\u001b[0m         client\u001b[38;5;241m.\u001b[39mingest(json\u001b[38;5;241m.\u001b[39mdumps(trial_mcode), space_id\u001b[38;5;241m=\u001b[39mspace_id)\n\u001b[1;32m     61\u001b[0m     \u001b[38;5;28;01mreturn\u001b[39;00m \u001b[38;5;124mf\u001b[39m\u001b[38;5;124m\"\u001b[39m\u001b[38;5;124mIngested \u001b[39m\u001b[38;5;132;01m{\u001b[39;00m\u001b[38;5;28mlen\u001b[39m(trials)\u001b[38;5;132;01m}\u001b[39;00m\u001b[38;5;124m mCODE trial records directly.\u001b[39m\u001b[38;5;124m\"\u001b[39m\n\u001b[0;32m---> 62\u001b[0m \u001b[38;5;28;01mraise\u001b[39;00m \u001b[38;5;167;01mValueError\u001b[39;00m(\u001b[38;5;124m\"\u001b[39m\u001b[38;5;124mUnsupported trials JSON shape.\u001b[39m\u001b[38;5;124m\"\u001b[39m)\n",
      "\u001b[0;31mValueError\u001b[0m: Unsupported trials JSON shape."
     ]
    }
   ],
   "source": [
    "# Ingest mCODE trial data directly\n",
    "try:\n",
    "    result = ingest_trials_from_path(client, trials_space_id, TRIALS_PATH)\n",
    "    print(f\"✅ {result}\")\n",
    "    print(\"📊 Trial data queued for processing\")\n",
    "    \n",
    "except Exception as e:\n",
    "    print(f\"❌ Failed to ingest trial data: {e}\")\n",
    "    raise"
   ]
  },
  {
   "cell_type": "markdown",
   "id": "ingestion-status",
   "metadata": {},
   "source": [
    "# 📈 STEP 6: Check Ingestion Status\n",
    "\n",
    "**What happens here:**\n",
    "- Reports the current status of data ingestion\n",
    "- Shows that data is queued for asynchronous processing\n",
    "- Provides guidance on monitoring completion\n",
    "\n",
    "**Why this matters:**\n",
    "- CORE Memory processes large datasets asynchronously\n",
    "- Status tracking helps manage expectations\n",
    "- Ensures users know where to check for completion"
   ]
  },
  {
   "cell_type": "code",
   "execution_count": null,
   "id": "status-check",
   "metadata": {},
   "outputs": [],
   "source": [
    "# Check ingestion status\n",
    "print(\"\\n=== 📈 INGESTION STATUS ===\")\n",
    "print(\"Patients space status: queued\")\n",
    "print(\"Clinical Trials space status: queued\")\n",
    "print(\"\\n💡 Note: Ingestion is queued and will be processed asynchronously.\")\n",
    "print(\"🔍 Check the CORE web interface for completion status.\")\n",
    "print(\"⏱️ Large datasets may take several minutes to fully process.\")"
   ]
  },
  {
   "cell_type": "markdown",
   "id": "semantic-search",
   "metadata": {},
   "source": [
    "# 🔍 STEP 7: Test Semantic Searches\n",
    "\n",
    "**What happens here:**\n",
    "- Performs sample searches across both spaces\n",
    "- Tests clinical concept recognition and matching\n",
    "- Demonstrates cross-space semantic capabilities\n",
    "\n",
    "**Why this matters:**\n",
    "- Validates that the mCODE ontology is working\n",
    "- Tests clinical feature matching capabilities\n",
    "- Shows how patient and trial data can be semantically linked"
   ]
  },
  {
   "cell_type": "code",
   "execution_count": null,
   "id": "search-test",
   "metadata": {},
   "outputs": [],
   "source": [
    "# Test semantic searches (may return empty initially while processing)\n",
    "print(\"\\n=== 🔍 PATIENTS SPACE SEARCH ===\")\n",
    "try:\n",
    "    res = client.search(\"Breast\", space_id=patients_space_id)\n",
    "    print(\"Search 'Breast' in Patients space (first 1200 chars):\")\n",
    "    print(json.dumps(res, indent=2)[:1200], \"...\")\n",
    "except Exception as e:\n",
    "    print(f\"Search failed (expected during processing): {e}\")\n",
    "\n",
    "print(\"\\n=== 🔍 CLINICAL TRIALS SPACE SEARCH ===\")\n",
    "try:\n",
    "    res = client.search(\"Breast\", space_id=trials_space_id)\n",
    "    print(\"Search 'Breast' in Clinical Trials space (first 1200 chars):\")\n",
    "    print(json.dumps(res, indent=2)[:1200], \"...\")\n",
    "    \n",
    "    res = client.search(\"Osimertinib\", space_id=trials_space_id)\n",
    "    print(\"\\nSearch 'Osimertinib' in Clinical Trials space (first 1200 chars):\")\n",
    "    print(json.dumps(res, indent=2)[:1200], \"...\")\n",
    "except Exception as e:\n",
    "    print(f\"Search failed (expected during processing): {e}\")\n",
    "\n",
    "print(\"\\n🎉 mCODE data ingestion complete!\")\n",
    "print(\"📊 Data is being processed asynchronously in CORE Memory.\")\n",
    "print(\"🔬 Ready for clinical feature matching and patient-trial correlations.\")"
   ]
  }
 ],
 "metadata": {
  "kernelspec": {
   "display_name": "mcode_translator",
   "language": "python",
   "name": "python3"
  },
  "language_info": {
   "codemirror_mode": {
    "name": "ipython",
    "version": 3
   },
   "file_extension": ".py",
   "mimetype": "text/x-python",
   "name": "python",
   "nbconvert_exporter": "python",
   "pygments_lexer": "ipython3",
   "version": "3.10.18"
  }
 },
 "nbformat": 4,
 "nbformat_minor": 5
}
